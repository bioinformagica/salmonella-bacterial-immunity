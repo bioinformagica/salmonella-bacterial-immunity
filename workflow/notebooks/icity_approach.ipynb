{
 "cells": [
  {
   "cell_type": "code",
   "execution_count": 1,
   "id": "74bfd4cb-8bfa-4984-a173-ec3b2ff0e689",
   "metadata": {
    "tags": []
   },
   "outputs": [],
   "source": [
    "# Imports \n",
    "# native\n",
    "from collections import defaultdict\n",
    "from collections import Counter\n",
    "from itertools import repeat\n",
    "\n",
    "# external\n",
    "import pandas as pd\n",
    "import seaborn as sns\n",
    "import numpy as np\n",
    "import matplotlib.pyplot as plt"
   ]
  },
  {
   "cell_type": "code",
   "execution_count": 26,
   "id": "5be0ec91-e7e6-4638-b5e3-e2734ad11592",
   "metadata": {
    "tags": []
   },
   "outputs": [],
   "source": [
    "# Functions \n",
    "def count_seeds_from_tsv(tsv_file_path: str):\n",
    "    counter = Counter()\n",
    "    with open(tsv_file_path, 'r') as f:\n",
    "        for record in f:\n",
    "            seed, member = record.strip().split('\\t')\n",
    "            counter[seed] += 1\n",
    "    return { 'seeds' : len(counter.keys()), 'proteins' : sum(counter.values()) }\n",
    "\n",
    "# def count_homologues_in_each_seed(tsv_file_path: str):\n",
    "#     counter = Counter()\n",
    "#     with open(tsv_file_path, 'r') as f:\n",
    "#         for record in f:\n",
    "#             seed, member = record.strip().split('\\t')\n",
    "#             counter[seed] += 1\n",
    "#     return tuple(counter.values())\n",
    "\n",
    "def parse_mmseqs_seeds(seeds_tsv_file):\n",
    "    \"\"\" \n",
    "    mmseqs2 tsv files are usually very big\n",
    "    the idea here is to create a generator\n",
    "    that will only read and yield a cluster\n",
    "    at a time so my crappy pc can parse all\n",
    "    data in chunks.\n",
    "    For this to work the tsv mmseqs needs to be\n",
    "    sorted by the first column.\n",
    "    \"\"\"\n",
    "    \n",
    "    format_df = lambda current_seed, members: pd.DataFrame(zip(repeat(current_seed), members), columns=('seeds', 'members'))\n",
    "    \n",
    "    with open(seeds_tsv_file) as f:\n",
    "        \n",
    "        current_seed = None\n",
    "        members = []\n",
    "                \n",
    "        for record in f:\n",
    "            seed, member = record.strip().split('\\t')\n",
    "            \n",
    "            if current_seed and seed != current_seed:\n",
    "                \n",
    "                yield (current_seed, format_df(current_seed, members))\n",
    "                \n",
    "                current_seed = None\n",
    "                members = []\n",
    "                \n",
    "            if not current_seed:\n",
    "                current_seed = seed\n",
    "                \n",
    "            members.append(member)\n",
    "            \n",
    "        yield (current_seed, format_df(current_seed, members))\n",
    "        \n",
    "\n"
   ]
  },
  {
   "cell_type": "markdown",
   "id": "4b91ad74-6a5c-4e17-9dba-9ad872a5c42e",
   "metadata": {},
   "source": [
    "# Trying the icity approuch \n",
    "Let's try the [icity method](https://www.ncbi.nlm.nih.gov/pmc/articles/PMC6003329/), this approuch consists on finding a set of baits (interest _loci_) and then trought the use of a few scoring functions (mainly icity) find nighboorhood genes that might have functional relationships."
   ]
  },
  {
   "cell_type": "markdown",
   "id": "9bdb393a-f23b-4c6e-b7bb-fe23e64b0f04",
   "metadata": {},
   "source": [
    "## Clustering all _Salmonella_ proteins\n",
    "All _Salmonella_ proteins annotated with prokka where merged in one file and clustered with mmseqs2 with min coverage (-c 0.9) and min identity (-min-ind-pct 0.9). The barplot bellow show the count of all proteins in the _Salmonella_ genomes and the count of seeds (clusters) after mmseqs2 clustering."
   ]
  },
  {
   "cell_type": "code",
   "execution_count": 20,
   "id": "a12ce024-4bec-447e-9be0-b8b7df383a19",
   "metadata": {
    "collapsed": true,
    "jupyter": {
     "outputs_hidden": true,
     "source_hidden": true
    },
    "tags": []
   },
   "outputs": [
    {
     "data": {
      "text/plain": [
       "{'seeds': 264793, 'proteins': 74326142}"
      ]
     },
     "execution_count": 20,
     "metadata": {},
     "output_type": "execute_result"
    }
   ],
   "source": [
    "clustered_proteins_file = '/home/hugo/projects/salmonella-bacterial-immunity/clu_90_90.sorted.tsv'\n",
    "\n",
    "seeds_and_proteins_count = count_seeds_from_tsv(clustered_proteins_file)\n",
    "seeds_and_proteins_count"
   ]
  },
  {
   "cell_type": "code",
   "execution_count": 62,
   "id": "09e8dc92-b6ee-4cd1-ab1e-90a8b55e1b66",
   "metadata": {
    "jupyter": {
     "source_hidden": true
    },
    "tags": []
   },
   "outputs": [
    {
     "data": {
      "text/plain": [
       "Text(0.5, 0.98, 'Count of seeds after mmseqs2 clustering')"
      ]
     },
     "execution_count": 62,
     "metadata": {},
     "output_type": "execute_result"
    },
    {
     "data": {
      "image/png": "[encoded data removed]",
      "text/plain": [
       "<Figure size 432x288 with 2 Axes>"
      ]
     },
     "metadata": {
      "needs_background": "light"
     },
     "output_type": "display_data"
    }
   ],
   "source": [
    "# https://matplotlib.org/3.1.0/gallery/subplots_axes_and_figures/broken_axis.html\n",
    "\n",
    "temp = pd.DataFrame(seeds_and_proteins_count.items(), columns=('type', 'count')).sort_values('count', ascending=False)\n",
    "\n",
    "# create a 2 by 1 grid \n",
    "f, (ax, ax2) = plt.subplots(2, 1, sharex=True)\n",
    "\n",
    "# Create two plots (top and bottom)\n",
    "sns.barplot(x='type', y='count', data=temp, ax=ax)\n",
    "sns.barplot(x='type', y='count', data=temp, ax=ax2)\n",
    "\n",
    "# Set sci notation to y\n",
    "ax.ticklabel_format(style='sci', scilimits=(0,0), axis='y')\n",
    "ax2.ticklabel_format(style='sci', scilimits=(0,0), axis='y')\n",
    "# Set limit to top and bottom\n",
    "bottom_limit = temp['count'].min() * 2\n",
    "top_limit = temp['count'].max() * 1.1\n",
    "ax.set_ylim(bottom_limit, top_limit)  # outliers only\n",
    "ax2.set_ylim(0, bottom_limit)  # most of the data\n",
    "\n",
    "# hide the spines between ax and ax2\n",
    "ax.spines['bottom'].set_visible(False)\n",
    "ax2.spines['top'].set_visible(False)\n",
    "ax.xaxis.tick_top()\n",
    "ax.tick_params(labeltop=False)  # don't put tick labels at the top\n",
    "ax2.xaxis.tick_bottom()\n",
    "\n",
    "d = .015  # how big to make the diagonal lines in axes coordinates\n",
    "# arguments to pass to plot, just so we don't keep repeating them\n",
    "kwargs = dict(transform=ax.transAxes, color='k', clip_on=False)\n",
    "ax.plot((-d, +d), (-d, +d), **kwargs)        # top-left diagonal\n",
    "ax.plot((1 - d, 1 + d), (-d, +d), **kwargs)  # top-right diagonal\n",
    "ax.set_xlabel('') # remove top xlabel\n",
    "\n",
    "kwargs.update(transform=ax2.transAxes)  # switch to the bottom axes\n",
    "ax2.plot((-d, +d), (1 - d, 1 + d), **kwargs)  # bottom-left diagonal\n",
    "ax2.plot((1 - d, 1 + d), (1 - d, 1 + d), **kwargs)  # bottom-right diagonal\n",
    "\n",
    "# Set title \n",
    "f.suptitle(\"Count of seeds after mmseqs2 clustering\")"
   ]
  },
  {
   "cell_type": "markdown",
   "id": "4e3df1dc-4061-48db-b9ab-01ec470eb759",
   "metadata": {},
   "source": [
    "Before doing clustering we had approximately 74 million single proteins in all the 16,5 thousand genomes of _Salmonella_. This was reduced to 250 thousand seeds (clusters) after the mmseqs clustering. "
   ]
  },
  {
   "cell_type": "markdown",
   "id": "1d849b51-5112-4810-bcc6-2549d3e986a3",
   "metadata": {},
   "source": [
    "## Filtering out seeds that don't have defesense systems as neighbors\n",
    "\n",
    "The idea of doing the clustering is to established relationships between the proteins on the genomes. So here we are going to drop seeds that don't a single homologus members that is a neighbor of a defesense system gene. "
   ]
  },
  {
   "cell_type": "code",
   "execution_count": 6,
   "id": "c37820a5-4756-4d53-bf9e-175fd5ae02d3",
   "metadata": {},
   "outputs": [],
   "source": [
    "seeds_mmseqs = '/home/hugo/projects/salmonella-bacterial-immunity/clu_90_90.sorted.tsv'\n",
    "locus_tags_in_the_extracted_cassettes_file = '/home/hugo/projects/salmonella-bacterial-immunity/net_data_16K/neighborhood_baits_locus_tags.txt'\n",
    "locus_tags_in_the_extracted_cassettes = set([\n",
    "    record.strip()\n",
    "    for record in open(locus_tags_in_the_extracted_cassettes_file, 'r')\n",
    "])"
   ]
  },
  {
   "cell_type": "code",
   "execution_count": 31,
   "id": "6512a7d8-fa94-4592-a784-628489bf382a",
   "metadata": {},
   "outputs": [],
   "source": [
    "with open(seeds_mmseqs) as f:\n",
    "    interest_seeds = Counter()\n",
    "    not_interest_seeds = Counter()\n",
    "    for record in f:\n",
    "        seed, member = record.strip().split('\\t')\n",
    "        if member in locus_tags_in_the_extracted_cassettes:\n",
    "            interest_seeds[seed] += 1\n",
    "            continue\n",
    "        not_interest_seeds[seed] += 1"
   ]
  },
  {
   "cell_type": "code",
   "execution_count": 23,
   "id": "50fca029-596b-45fb-86a5-852db027f1c1",
   "metadata": {},
   "outputs": [],
   "source": [
    "clusters_with_defesense_systems = set(interest_seeds.keys())"
   ]
  },
  {
   "cell_type": "code",
   "execution_count": 37,
   "id": "f244f047-06df-46f3-901c-4087da247730",
   "metadata": {},
   "outputs": [],
   "source": [
    "with open('/home/hugo/projects/salmonella-bacterial-immunity/seeds_neighborhood_all_locus_tags.txt', 'w') as f_out:\n",
    "    with open(seeds_mmseqs) as f_in:\n",
    "        for record in f_in:\n",
    "            seed, member = record.strip().split('\\t')\n",
    "            if seed in clusters_with_defesense_systems:\n",
    "                f_out.write(record)\n",
    "                "
   ]
  },
  {
   "cell_type": "code",
   "execution_count": 33,
   "id": "bbbcc981-b692-4ab6-b0e7-0f85af0a2bf7",
   "metadata": {},
   "outputs": [
    {
     "data": {
      "text/plain": [
       "2498993"
      ]
     },
     "execution_count": 33,
     "metadata": {},
     "output_type": "execute_result"
    }
   ],
   "source": []
  },
  {
   "cell_type": "code",
   "execution_count": null,
   "id": "6f9fd892-047d-4c0d-8571-537152e6dbe5",
   "metadata": {},
   "outputs": [],
   "source": []
  }
 ],
 "metadata": {
  "kernelspec": {
   "display_name": "Python 3 (ipykernel)",
   "language": "python",
   "name": "python3"
  },
  "language_info": {
   "codemirror_mode": {
    "name": "ipython",
    "version": 3
   },
   "file_extension": ".py",
   "mimetype": "text/x-python",
   "name": "python",
   "nbconvert_exporter": "python",
   "pygments_lexer": "ipython3",
   "version": "3.10.5"
  }
 },
 "nbformat": 4,
 "nbformat_minor": 5
}
