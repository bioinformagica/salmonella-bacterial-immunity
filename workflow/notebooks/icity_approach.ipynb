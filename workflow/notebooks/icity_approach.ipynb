{
 "cells": [
  {
   "cell_type": "code",
   "execution_count": 2,
   "id": "74bfd4cb-8bfa-4984-a173-ec3b2ff0e689",
   "metadata": {
    "tags": []
   },
   "outputs": [],
   "source": [
    "# Imports \n",
    "# native\n",
    "import os\n",
    "import re\n",
    "from collections import Counter\n",
    "from collections import defaultdict\n",
    "import random\n",
    "from itertools import chain\n",
    "\n",
    "# external\n",
    "import requests\n",
    "import numpy as np\n",
    "import seaborn as sns\n",
    "### NEW import\n",
    "import modin.pandas as pd\n",
    "from modin.config import Engine\n",
    "Engine.put(\"ray\")\n",
    "os.environ[\"MODIN_CPUS\"] = \"3\"\n"
   ]
  },
  {
   "cell_type": "code",
   "execution_count": 10,
   "id": "caf17c9d-4d19-4245-b577-971b170d18fa",
   "metadata": {
    "collapsed": true,
    "jupyter": {
     "outputs_hidden": true,
     "source_hidden": true
    },
    "tags": []
   },
   "outputs": [
    {
     "data": {
      "text/html": [
       "<div>\n",
       "<style scoped>\n",
       "    .dataframe tbody tr th:only-of-type {\n",
       "        vertical-align: middle;\n",
       "    }\n",
       "\n",
       "    .dataframe tbody tr th {\n",
       "        vertical-align: top;\n",
       "    }\n",
       "\n",
       "    .dataframe thead th {\n",
       "        text-align: right;\n",
       "    }\n",
       "</style>\n",
       "<table border=\"1\" class=\"dataframe\">\n",
       "  <thead>\n",
       "    <tr style=\"text-align: right;\">\n",
       "      <th></th>\n",
       "      <th>seeds</th>\n",
       "      <th>members_names</th>\n",
       "      <th>members_count</th>\n",
       "      <th>members_close_to_baits</th>\n",
       "      <th>icity</th>\n",
       "      <th>diversity_score</th>\n",
       "      <th>diversity_of_close_systems</th>\n",
       "      <th>mean_closest_bait_distance</th>\n",
       "      <th>std_closest_bait_distance</th>\n",
       "      <th>cv_closest_bait_distance</th>\n",
       "    </tr>\n",
       "  </thead>\n",
       "  <tbody>\n",
       "    <tr>\n",
       "      <th>0</th>\n",
       "      <td>ELEBACFE_01409</td>\n",
       "      <td>apt:99.82%,apt_2:0.02%,apt_1:0.16%,apt_3:0.01%</td>\n",
       "      <td>16288</td>\n",
       "      <td>5</td>\n",
       "      <td>0.000307</td>\n",
       "      <td>0.000012</td>\n",
       "      <td>{'NA;defensefinder:name=Type_II_REases,system=...</td>\n",
       "      <td>NaN</td>\n",
       "      <td>NaN</td>\n",
       "      <td>NaN</td>\n",
       "    </tr>\n",
       "    <tr>\n",
       "      <th>1</th>\n",
       "      <td>GEPOOPDK_00969</td>\n",
       "      <td>dnaX:99.96%,dnaX_1:0.03%,dnaX_2:0.01%,dnaX_3:0...</td>\n",
       "      <td>15988</td>\n",
       "      <td>5</td>\n",
       "      <td>0.000313</td>\n",
       "      <td>0.000012</td>\n",
       "      <td>{'NA;defensefinder:name=Type_II_REases,system=...</td>\n",
       "      <td>NaN</td>\n",
       "      <td>NaN</td>\n",
       "      <td>NaN</td>\n",
       "    </tr>\n",
       "    <tr>\n",
       "      <th>2</th>\n",
       "      <td>OPMEBHBH_00282</td>\n",
       "      <td>ybaB:99.96%,ybaB_1:0.02%,ybaB_2:0.02%,ybaB_3:0...</td>\n",
       "      <td>16281</td>\n",
       "      <td>5</td>\n",
       "      <td>0.000307</td>\n",
       "      <td>0.000012</td>\n",
       "      <td>{'NA;defensefinder:name=Type_II_REases,system=...</td>\n",
       "      <td>NaN</td>\n",
       "      <td>NaN</td>\n",
       "      <td>NaN</td>\n",
       "    </tr>\n",
       "    <tr>\n",
       "      <th>3</th>\n",
       "      <td>LEDEBBBD_02850</td>\n",
       "      <td>htpG_1:9.17%,htpG_2:1.62%,htpG:89.2%,htpG_3:0....</td>\n",
       "      <td>16253</td>\n",
       "      <td>5</td>\n",
       "      <td>0.000308</td>\n",
       "      <td>0.000012</td>\n",
       "      <td>{'NA;defensefinder:name=Type_II_REases,system=...</td>\n",
       "      <td>NaN</td>\n",
       "      <td>NaN</td>\n",
       "      <td>NaN</td>\n",
       "    </tr>\n",
       "    <tr>\n",
       "      <th>4</th>\n",
       "      <td>HLLNPLAH_02376</td>\n",
       "      <td>adk:99.86%,adk_1:0.09%,adk_2:0.03%,adk_3:0.01%...</td>\n",
       "      <td>16284</td>\n",
       "      <td>1</td>\n",
       "      <td>0.000061</td>\n",
       "      <td>0.000002</td>\n",
       "      <td>{'NA;defensefinder:name=Type_II_REases,system=...</td>\n",
       "      <td>NaN</td>\n",
       "      <td>NaN</td>\n",
       "      <td>NaN</td>\n",
       "    </tr>\n",
       "  </tbody>\n",
       "</table>\n",
       "</div>"
      ],
      "text/plain": [
       "            seeds                                      members_names  \\\n",
       "0  ELEBACFE_01409     apt:99.82%,apt_2:0.02%,apt_1:0.16%,apt_3:0.01%   \n",
       "1  GEPOOPDK_00969  dnaX:99.96%,dnaX_1:0.03%,dnaX_2:0.01%,dnaX_3:0...   \n",
       "2  OPMEBHBH_00282  ybaB:99.96%,ybaB_1:0.02%,ybaB_2:0.02%,ybaB_3:0...   \n",
       "3  LEDEBBBD_02850  htpG_1:9.17%,htpG_2:1.62%,htpG:89.2%,htpG_3:0....   \n",
       "4  HLLNPLAH_02376  adk:99.86%,adk_1:0.09%,adk_2:0.03%,adk_3:0.01%...   \n",
       "\n",
       "   members_count  members_close_to_baits     icity  diversity_score  \\\n",
       "0          16288                       5  0.000307         0.000012   \n",
       "1          15988                       5  0.000313         0.000012   \n",
       "2          16281                       5  0.000307         0.000012   \n",
       "3          16253                       5  0.000308         0.000012   \n",
       "4          16284                       1  0.000061         0.000002   \n",
       "\n",
       "                          diversity_of_close_systems  \\\n",
       "0  {'NA;defensefinder:name=Type_II_REases,system=...   \n",
       "1  {'NA;defensefinder:name=Type_II_REases,system=...   \n",
       "2  {'NA;defensefinder:name=Type_II_REases,system=...   \n",
       "3  {'NA;defensefinder:name=Type_II_REases,system=...   \n",
       "4  {'NA;defensefinder:name=Type_II_REases,system=...   \n",
       "\n",
       "   mean_closest_bait_distance  std_closest_bait_distance  \\\n",
       "0                         NaN                        NaN   \n",
       "1                         NaN                        NaN   \n",
       "2                         NaN                        NaN   \n",
       "3                         NaN                        NaN   \n",
       "4                         NaN                        NaN   \n",
       "\n",
       "   cv_closest_bait_distance  \n",
       "0                       NaN  \n",
       "1                       NaN  \n",
       "2                       NaN  \n",
       "3                       NaN  \n",
       "4                       NaN  "
      ]
     },
     "execution_count": 10,
     "metadata": {},
     "output_type": "execute_result"
    }
   ],
   "source": [
    "icity_df = pd.read_csv('/home/hugo/projects/salmonella-bacterial-immunity/results/icity.main.tsv', sep='\\t')[[\n",
    "    'seeds',\n",
    "    'members_names',\n",
    "    'members_count',\n",
    "    'members_close_to_baits',\n",
    "    'icity', 'diversity_score',\n",
    "    'diversity_of_close_systems',\n",
    "    'mean_closest_bait_distance',\n",
    "    'std_closest_bait_distance',\n",
    "    'cv_closest_bait_distance'\n",
    "]]\n",
    "icity_df.head()"
   ]
  },
  {
   "cell_type": "code",
   "execution_count": 14,
   "id": "436397a7-d5a7-44d8-93f7-5832045c966f",
   "metadata": {
    "jupyter": {
     "source_hidden": true
    },
    "tags": []
   },
   "outputs": [],
   "source": [
    "before_filtering = {'seeds': 264793, 'proteins': 74326142,}"
   ]
  },
  {
   "cell_type": "code",
   "execution_count": 15,
   "id": "a5ff7d15-517b-4349-9ec2-f7205106a3f7",
   "metadata": {
    "jupyter": {
     "source_hidden": true
    },
    "tags": []
   },
   "outputs": [],
   "source": [
    "after_filtering = {'seeds': icity_df.seeds.shape[0], 'proteins': icity_df.members_count.sum()}"
   ]
  },
  {
   "cell_type": "code",
   "execution_count": 16,
   "id": "a9dbba87-8a76-43c7-be60-ce63bbcf6876",
   "metadata": {
    "collapsed": true,
    "jupyter": {
     "outputs_hidden": true,
     "source_hidden": true
    },
    "tags": []
   },
   "outputs": [
    {
     "data": {
      "text/plain": [
       "{'seeds': 20817, 'proteins': 25741130}"
      ]
     },
     "execution_count": 16,
     "metadata": {},
     "output_type": "execute_result"
    }
   ],
   "source": [
    "after_filtering"
   ]
  },
  {
   "cell_type": "code",
   "execution_count": 48,
   "id": "45341c82-7813-46c6-8d8d-43855163e3b4",
   "metadata": {
    "collapsed": true,
    "jupyter": {
     "outputs_hidden": true,
     "source_hidden": true
    },
    "tags": []
   },
   "outputs": [
    {
     "data": {
      "text/html": [
       "<div>\n",
       "<style scoped>\n",
       "    .dataframe tbody tr th:only-of-type {\n",
       "        vertical-align: middle;\n",
       "    }\n",
       "\n",
       "    .dataframe tbody tr th {\n",
       "        vertical-align: top;\n",
       "    }\n",
       "\n",
       "    .dataframe thead th {\n",
       "        text-align: right;\n",
       "    }\n",
       "</style>\n",
       "<table border=\"1\" class=\"dataframe\">\n",
       "  <thead>\n",
       "    <tr style=\"text-align: right;\">\n",
       "      <th></th>\n",
       "      <th>status</th>\n",
       "      <th>count</th>\n",
       "      <th>type</th>\n",
       "    </tr>\n",
       "  </thead>\n",
       "  <tbody>\n",
       "    <tr>\n",
       "      <th>0</th>\n",
       "      <td>before</td>\n",
       "      <td>74326142</td>\n",
       "      <td>protein</td>\n",
       "    </tr>\n",
       "    <tr>\n",
       "      <th>1</th>\n",
       "      <td>before</td>\n",
       "      <td>264793</td>\n",
       "      <td>seed</td>\n",
       "    </tr>\n",
       "    <tr>\n",
       "      <th>2</th>\n",
       "      <td>after</td>\n",
       "      <td>25741130</td>\n",
       "      <td>protein</td>\n",
       "    </tr>\n",
       "    <tr>\n",
       "      <th>3</th>\n",
       "      <td>after</td>\n",
       "      <td>20817</td>\n",
       "      <td>seed</td>\n",
       "    </tr>\n",
       "  </tbody>\n",
       "</table>\n",
       "</div>"
      ],
      "text/plain": [
       "   status     count     type\n",
       "0  before  74326142  protein\n",
       "1  before    264793     seed\n",
       "2   after  25741130  protein\n",
       "3   after     20817     seed"
      ]
     },
     "execution_count": 48,
     "metadata": {},
     "output_type": "execute_result"
    }
   ],
   "source": [
    "fig1_df = pd.DataFrame.from_dict({\n",
    "    'status'  : ['before', 'before', 'after',  'after'],\n",
    "    'count': [74326142, 264793, 25741130, 20817],\n",
    "    'type'    : ['protein', 'seed', 'protein', 'seed'],\n",
    "})\n",
    "fig1_df.head()"
   ]
  },
  {
   "cell_type": "code",
   "execution_count": 59,
   "id": "ed4b2472-5c3b-44ec-8e7d-52b242b1531f",
   "metadata": {
    "collapsed": true,
    "jupyter": {
     "outputs_hidden": true,
     "source_hidden": true
    },
    "tags": []
   },
   "outputs": [
    {
     "data": {
      "text/plain": [
       "Text(0.5, 0.98, 'Fig1: Filter out seeds that dont have a single members close to a bait (some seeds are a bait)')"
      ]
     },
     "execution_count": 59,
     "metadata": {},
     "output_type": "execute_result"
    },
    {
     "data": {
      "image/png": "[encoded data removed]",
      "text/plain": [
       "<Figure size 640x480 with 2 Axes>"
      ]
     },
     "metadata": {},
     "output_type": "display_data"
    }
   ],
   "source": [
    "# create a 2 by 1 grid \n",
    "f, (ax, ax2) = plt.subplots(2, 1, sharex=True)\n",
    "\n",
    "# Create two plots (top and bottom)\n",
    "sns.barplot(data=fig1_df, x='status', y='count', hue='type', ax=ax)\n",
    "sns.barplot(data=fig1_df, x='status', y='count', hue='type', ax=ax2)\n",
    "ax2.legend_.remove()\n",
    "\n",
    "# Set sci notation to y\n",
    "ax.ticklabel_format(style='sci', scilimits=(0,0), axis='y')\n",
    "ax2.ticklabel_format(style='sci', scilimits=(0,0), axis='y')\n",
    "\n",
    "# Set limit to top and bottom\n",
    "bottom_limit = fig1_df.query('type == \"seed\"')['count'].max() * 1.2\n",
    "top_limit = fig1_df['count'].max() * 1.1\n",
    "ax.set_ylim(bottom_limit, top_limit)  # outliers only\n",
    "ax2.set_ylim(0, bottom_limit)  # most of the data\n",
    "\n",
    "# hide the spines between ax and ax2\n",
    "ax.spines['bottom'].set_visible(False)\n",
    "ax2.spines['top'].set_visible(False)\n",
    "ax.xaxis.tick_top()\n",
    "ax.tick_params(labeltop=False)  # don't put tick labels at the top\n",
    "ax2.xaxis.tick_bottom()\n",
    "\n",
    "d = .015  # how big to make the diagonal lines in axes coordinates\n",
    "# arguments to pass to plot, just so we don't keep repeating them\n",
    "\n",
    "kwargs = dict(transform=ax.transAxes, color='k', clip_on=False)\n",
    "ax.plot((-d, +d), (-d, +d), **kwargs)        # top-left diagonal\n",
    "ax.plot((1 - d, 1 + d), (-d, +d), **kwargs)  # top-right diagonal\n",
    "ax.set_xlabel('') # remove top xlabel\n",
    "\n",
    "kwargs.update(transform=ax2.transAxes)  # switch to the bottom axes\n",
    "ax2.plot((-d, +d), (1 - d, 1 + d), **kwargs)  # bottom-left diagonal\n",
    "ax2.plot((1 - d, 1 + d), (1 - d, 1 + d), **kwargs)  # bottom-right diagonal\n",
    "\n",
    "# Set title \n",
    "f.suptitle(\"Fig1: Filter out seeds that dont have a single members close to a bait (some seeds are a bait)\")\n",
    "\n",
    "\n",
    "\n",
    " #, col='status' , kind='bar', aspect=.7)"
   ]
  },
  {
   "cell_type": "code",
   "execution_count": 70,
   "id": "0639e1ac-ceb8-458c-97de-a2ec7fb1cd2c",
   "metadata": {
    "collapsed": true,
    "jupyter": {
     "outputs_hidden": true,
     "source_hidden": true
    },
    "tags": []
   },
   "outputs": [
    {
     "data": {
      "text/plain": [
       "<AxesSubplot:>"
      ]
     },
     "execution_count": 70,
     "metadata": {},
     "output_type": "execute_result"
    },
    {
     "data": {
      "image/png": "[encoded data removed]",
      "text/plain": [
       "<Figure size 640x480 with 1 Axes>"
      ]
     },
     "metadata": {},
     "output_type": "display_data"
    }
   ],
   "source": [
    "sns.histplot(x=icity_df.query('diversity_of_close_systems == \"NA\"').icity)"
   ]
  },
  {
   "cell_type": "code",
   "execution_count": 82,
   "id": "f92c5604-5d61-4110-9189-6209eea0167c",
   "metadata": {
    "collapsed": true,
    "jupyter": {
     "outputs_hidden": true,
     "source_hidden": true
    },
    "tags": []
   },
   "outputs": [
    {
     "data": {
      "text/plain": [
       "8153"
      ]
     },
     "execution_count": 82,
     "metadata": {},
     "output_type": "execute_result"
    }
   ],
   "source": [
    "len(icity_df.diversity_of_close_systems.unique())"
   ]
  },
  {
   "cell_type": "code",
   "execution_count": 91,
   "id": "ba16bdff-c981-499f-a59b-1ab20775e1a1",
   "metadata": {
    "collapsed": true,
    "jupyter": {
     "outputs_hidden": true,
     "source_hidden": true
    },
    "tags": []
   },
   "outputs": [
    {
     "data": {
      "text/html": [
       "<div>\n",
       "<style scoped>\n",
       "    .dataframe tbody tr th:only-of-type {\n",
       "        vertical-align: middle;\n",
       "    }\n",
       "\n",
       "    .dataframe tbody tr th {\n",
       "        vertical-align: top;\n",
       "    }\n",
       "\n",
       "    .dataframe thead th {\n",
       "        text-align: right;\n",
       "    }\n",
       "</style>\n",
       "<table border=\"1\" class=\"dataframe\">\n",
       "  <thead>\n",
       "    <tr style=\"text-align: right;\">\n",
       "      <th></th>\n",
       "      <th>seeds</th>\n",
       "      <th>members_names</th>\n",
       "      <th>members_count</th>\n",
       "      <th>members_close_to_baits</th>\n",
       "      <th>icity</th>\n",
       "      <th>diversity_score</th>\n",
       "      <th>diversity_of_close_systems</th>\n",
       "      <th>mean_closest_bait_distance</th>\n",
       "      <th>std_closest_bait_distance</th>\n",
       "      <th>cv_closest_bait_distance</th>\n",
       "    </tr>\n",
       "  </thead>\n",
       "  <tbody>\n",
       "    <tr>\n",
       "      <th>767</th>\n",
       "      <td>OIICPPNC_01267</td>\n",
       "      <td>casC:99.85%,casC_1:0.08%,casC_2:0.07%</td>\n",
       "      <td>10120</td>\n",
       "      <td>10119</td>\n",
       "      <td>0.999901</td>\n",
       "      <td>0.199382</td>\n",
       "      <td>{'padloc:name=Cas2e,system=cas_type_I-E;defens...</td>\n",
       "      <td>NaN</td>\n",
       "      <td>NaN</td>\n",
       "      <td>NaN</td>\n",
       "    </tr>\n",
       "    <tr>\n",
       "      <th>764</th>\n",
       "      <td>BPPBCHKB_01625</td>\n",
       "      <td>ygbT:99.73%,ygbT_1:0.14%,ygbT_2:0.13%</td>\n",
       "      <td>9903</td>\n",
       "      <td>9902</td>\n",
       "      <td>0.999899</td>\n",
       "      <td>0.196177</td>\n",
       "      <td>{'padloc:name=Cas2e,system=cas_type_I-E;defens...</td>\n",
       "      <td>NaN</td>\n",
       "      <td>NaN</td>\n",
       "      <td>NaN</td>\n",
       "    </tr>\n",
       "    <tr>\n",
       "      <th>766</th>\n",
       "      <td>NBJKFGOO_02445</td>\n",
       "      <td>Hypothetical Protein:100.0%</td>\n",
       "      <td>10234</td>\n",
       "      <td>10232</td>\n",
       "      <td>0.999805</td>\n",
       "      <td>0.201781</td>\n",
       "      <td>{'padloc:name=Cas2e,system=cas_type_I-E;defens...</td>\n",
       "      <td>NaN</td>\n",
       "      <td>NaN</td>\n",
       "      <td>NaN</td>\n",
       "    </tr>\n",
       "    <tr>\n",
       "      <th>1814</th>\n",
       "      <td>IJLIHHGB_01195</td>\n",
       "      <td>Hypothetical Protein:99.87%,casA:0.13%</td>\n",
       "      <td>4497</td>\n",
       "      <td>4496</td>\n",
       "      <td>0.999778</td>\n",
       "      <td>0.088684</td>\n",
       "      <td>{'padloc:name=Cas5e,system=cas_type_I-E;defens...</td>\n",
       "      <td>NaN</td>\n",
       "      <td>NaN</td>\n",
       "      <td>NaN</td>\n",
       "    </tr>\n",
       "    <tr>\n",
       "      <th>768</th>\n",
       "      <td>LAGNHMEK_02052</td>\n",
       "      <td>Hypothetical Protein:100.0%</td>\n",
       "      <td>8589</td>\n",
       "      <td>8587</td>\n",
       "      <td>0.999767</td>\n",
       "      <td>0.168928</td>\n",
       "      <td>{'padloc:name=Cas2e,system=cas_type_I-E;defens...</td>\n",
       "      <td>NaN</td>\n",
       "      <td>NaN</td>\n",
       "      <td>NaN</td>\n",
       "    </tr>\n",
       "    <tr>\n",
       "      <th>2180</th>\n",
       "      <td>ALDDAGCD_04218</td>\n",
       "      <td>Hypothetical Protein:100.0%</td>\n",
       "      <td>3982</td>\n",
       "      <td>3981</td>\n",
       "      <td>0.999749</td>\n",
       "      <td>0.076171</td>\n",
       "      <td>{'NA;defensefinder:name=Mokosh_TypeII_MkoC,sys...</td>\n",
       "      <td>NaN</td>\n",
       "      <td>NaN</td>\n",
       "      <td>NaN</td>\n",
       "    </tr>\n",
       "    <tr>\n",
       "      <th>2181</th>\n",
       "      <td>FLEIADLP_00974</td>\n",
       "      <td>lon_3:24.1%,lon_2:41.71%,lon_1:33.97%,lon_5:0....</td>\n",
       "      <td>3515</td>\n",
       "      <td>3514</td>\n",
       "      <td>0.999716</td>\n",
       "      <td>0.075385</td>\n",
       "      <td>{'NA;defensefinder:name=Mokosh_TypeII_MkoC,sys...</td>\n",
       "      <td>NaN</td>\n",
       "      <td>NaN</td>\n",
       "      <td>NaN</td>\n",
       "    </tr>\n",
       "    <tr>\n",
       "      <th>2184</th>\n",
       "      <td>MIHNGDJK_00043</td>\n",
       "      <td>Hypothetical Protein:100.0%</td>\n",
       "      <td>3152</td>\n",
       "      <td>3151</td>\n",
       "      <td>0.999683</td>\n",
       "      <td>0.068916</td>\n",
       "      <td>{'NA;defensefinder:name=Mokosh_TypeII_MkoC,sys...</td>\n",
       "      <td>NaN</td>\n",
       "      <td>NaN</td>\n",
       "      <td>NaN</td>\n",
       "    </tr>\n",
       "    <tr>\n",
       "      <th>765</th>\n",
       "      <td>CPHHPHLB_05241</td>\n",
       "      <td>casE:99.37%,cse3:0.49%,Hypothetical Protein:0....</td>\n",
       "      <td>10130</td>\n",
       "      <td>10126</td>\n",
       "      <td>0.999605</td>\n",
       "      <td>0.199449</td>\n",
       "      <td>{'padloc:name=Cas2e,system=cas_type_I-E;defens...</td>\n",
       "      <td>NaN</td>\n",
       "      <td>NaN</td>\n",
       "      <td>NaN</td>\n",
       "    </tr>\n",
       "    <tr>\n",
       "      <th>6600</th>\n",
       "      <td>OEDBNFEP_00945</td>\n",
       "      <td>Hypothetical Protein:100.0%</td>\n",
       "      <td>2442</td>\n",
       "      <td>2441</td>\n",
       "      <td>0.999590</td>\n",
       "      <td>0.018166</td>\n",
       "      <td>{'padloc:name=DruE3,system=druantia_type_III;d...</td>\n",
       "      <td>NaN</td>\n",
       "      <td>NaN</td>\n",
       "      <td>NaN</td>\n",
       "    </tr>\n",
       "    <tr>\n",
       "      <th>6599</th>\n",
       "      <td>JJGLNJFM_01533</td>\n",
       "      <td>Hypothetical Protein:100.0%</td>\n",
       "      <td>2414</td>\n",
       "      <td>2413</td>\n",
       "      <td>0.999586</td>\n",
       "      <td>0.017916</td>\n",
       "      <td>{'padloc:name=DruE3,system=druantia_type_III;d...</td>\n",
       "      <td>NaN</td>\n",
       "      <td>NaN</td>\n",
       "      <td>NaN</td>\n",
       "    </tr>\n",
       "    <tr>\n",
       "      <th>769</th>\n",
       "      <td>BDNMLGFF_02591</td>\n",
       "      <td>Hypothetical Protein:100.0%</td>\n",
       "      <td>1817</td>\n",
       "      <td>1816</td>\n",
       "      <td>0.999450</td>\n",
       "      <td>0.035986</td>\n",
       "      <td>{'padloc:name=Cas2e,system=cas_type_I-E;defens...</td>\n",
       "      <td>NaN</td>\n",
       "      <td>NaN</td>\n",
       "      <td>NaN</td>\n",
       "    </tr>\n",
       "    <tr>\n",
       "      <th>2282</th>\n",
       "      <td>CMEHDPPF_01784</td>\n",
       "      <td>Hypothetical Protein:100.0%</td>\n",
       "      <td>1526</td>\n",
       "      <td>1525</td>\n",
       "      <td>0.999345</td>\n",
       "      <td>0.007515</td>\n",
       "      <td>{'padloc:name=Cyclase,system=cbass_type_I;defe...</td>\n",
       "      <td>NaN</td>\n",
       "      <td>NaN</td>\n",
       "      <td>NaN</td>\n",
       "    </tr>\n",
       "    <tr>\n",
       "      <th>763</th>\n",
       "      <td>NDDJMGAO_01661</td>\n",
       "      <td>ygbF:99.7%,ygbF_1:0.15%,ygbF_2:0.16%</td>\n",
       "      <td>10190</td>\n",
       "      <td>10183</td>\n",
       "      <td>0.999313</td>\n",
       "      <td>0.198366</td>\n",
       "      <td>{'padloc:name=Cas2e,system=cas_type_I-E;defens...</td>\n",
       "      <td>NaN</td>\n",
       "      <td>NaN</td>\n",
       "      <td>NaN</td>\n",
       "    </tr>\n",
       "    <tr>\n",
       "      <th>6474</th>\n",
       "      <td>PLIMCCFO_00764</td>\n",
       "      <td>ygcB:100.0%</td>\n",
       "      <td>1435</td>\n",
       "      <td>1434</td>\n",
       "      <td>0.999303</td>\n",
       "      <td>0.027986</td>\n",
       "      <td>{'padloc:name=Cas3e,system=cas_type_I-E;defens...</td>\n",
       "      <td>NaN</td>\n",
       "      <td>NaN</td>\n",
       "      <td>NaN</td>\n",
       "    </tr>\n",
       "    <tr>\n",
       "      <th>3983</th>\n",
       "      <td>FBOAKOEM_04271</td>\n",
       "      <td>hsdS:99.61%,hsdS_1:0.39%</td>\n",
       "      <td>2809</td>\n",
       "      <td>2807</td>\n",
       "      <td>0.999288</td>\n",
       "      <td>0.033652</td>\n",
       "      <td>{'padloc:name=Specificity_I,system=DMS_other;d...</td>\n",
       "      <td>NaN</td>\n",
       "      <td>NaN</td>\n",
       "      <td>NaN</td>\n",
       "    </tr>\n",
       "    <tr>\n",
       "      <th>1583</th>\n",
       "      <td>LACJDLJG_00120</td>\n",
       "      <td>Hypothetical Protein:100.0%</td>\n",
       "      <td>1006</td>\n",
       "      <td>1005</td>\n",
       "      <td>0.999006</td>\n",
       "      <td>0.007552</td>\n",
       "      <td>{'padloc:name=REase_I,system=DMS_other;defense...</td>\n",
       "      <td>NaN</td>\n",
       "      <td>NaN</td>\n",
       "      <td>NaN</td>\n",
       "    </tr>\n",
       "    <tr>\n",
       "      <th>2144</th>\n",
       "      <td>GDMIDMDA_04511</td>\n",
       "      <td>Hypothetical Protein:100.0%</td>\n",
       "      <td>961</td>\n",
       "      <td>960</td>\n",
       "      <td>0.998959</td>\n",
       "      <td>0.006108</td>\n",
       "      <td>{'NA;defensefinder:name=LmuA_effector_Mrr,syst...</td>\n",
       "      <td>NaN</td>\n",
       "      <td>NaN</td>\n",
       "      <td>NaN</td>\n",
       "    </tr>\n",
       "    <tr>\n",
       "      <th>3951</th>\n",
       "      <td>KONLFBJN_03824</td>\n",
       "      <td>Hypothetical Protein:100.0%</td>\n",
       "      <td>2602</td>\n",
       "      <td>2599</td>\n",
       "      <td>0.998847</td>\n",
       "      <td>0.019338</td>\n",
       "      <td>{'padloc:name=Hp3,system=3HP;defensefinder:nam...</td>\n",
       "      <td>NaN</td>\n",
       "      <td>NaN</td>\n",
       "      <td>NaN</td>\n",
       "    </tr>\n",
       "    <tr>\n",
       "      <th>6563</th>\n",
       "      <td>CPHCDLAM_00230</td>\n",
       "      <td>Hypothetical Protein:100.0%</td>\n",
       "      <td>1679</td>\n",
       "      <td>1677</td>\n",
       "      <td>0.998809</td>\n",
       "      <td>0.014627</td>\n",
       "      <td>{'padloc:name=REase_III,system=DMS_other;defen...</td>\n",
       "      <td>NaN</td>\n",
       "      <td>NaN</td>\n",
       "      <td>NaN</td>\n",
       "    </tr>\n",
       "  </tbody>\n",
       "</table>\n",
       "</div>"
      ],
      "text/plain": [
       "               seeds                                      members_names  \\\n",
       "767   OIICPPNC_01267              casC:99.85%,casC_1:0.08%,casC_2:0.07%   \n",
       "764   BPPBCHKB_01625              ygbT:99.73%,ygbT_1:0.14%,ygbT_2:0.13%   \n",
       "766   NBJKFGOO_02445                        Hypothetical Protein:100.0%   \n",
       "1814  IJLIHHGB_01195             Hypothetical Protein:99.87%,casA:0.13%   \n",
       "768   LAGNHMEK_02052                        Hypothetical Protein:100.0%   \n",
       "2180  ALDDAGCD_04218                        Hypothetical Protein:100.0%   \n",
       "2181  FLEIADLP_00974  lon_3:24.1%,lon_2:41.71%,lon_1:33.97%,lon_5:0....   \n",
       "2184  MIHNGDJK_00043                        Hypothetical Protein:100.0%   \n",
       "765   CPHHPHLB_05241  casE:99.37%,cse3:0.49%,Hypothetical Protein:0....   \n",
       "6600  OEDBNFEP_00945                        Hypothetical Protein:100.0%   \n",
       "6599  JJGLNJFM_01533                        Hypothetical Protein:100.0%   \n",
       "769   BDNMLGFF_02591                        Hypothetical Protein:100.0%   \n",
       "2282  CMEHDPPF_01784                        Hypothetical Protein:100.0%   \n",
       "763   NDDJMGAO_01661               ygbF:99.7%,ygbF_1:0.15%,ygbF_2:0.16%   \n",
       "6474  PLIMCCFO_00764                                        ygcB:100.0%   \n",
       "3983  FBOAKOEM_04271                           hsdS:99.61%,hsdS_1:0.39%   \n",
       "1583  LACJDLJG_00120                        Hypothetical Protein:100.0%   \n",
       "2144  GDMIDMDA_04511                        Hypothetical Protein:100.0%   \n",
       "3951  KONLFBJN_03824                        Hypothetical Protein:100.0%   \n",
       "6563  CPHCDLAM_00230                        Hypothetical Protein:100.0%   \n",
       "\n",
       "      members_count  members_close_to_baits     icity  diversity_score  \\\n",
       "767           10120                   10119  0.999901         0.199382   \n",
       "764            9903                    9902  0.999899         0.196177   \n",
       "766           10234                   10232  0.999805         0.201781   \n",
       "1814           4497                    4496  0.999778         0.088684   \n",
       "768            8589                    8587  0.999767         0.168928   \n",
       "2180           3982                    3981  0.999749         0.076171   \n",
       "2181           3515                    3514  0.999716         0.075385   \n",
       "2184           3152                    3151  0.999683         0.068916   \n",
       "765           10130                   10126  0.999605         0.199449   \n",
       "6600           2442                    2441  0.999590         0.018166   \n",
       "6599           2414                    2413  0.999586         0.017916   \n",
       "769            1817                    1816  0.999450         0.035986   \n",
       "2282           1526                    1525  0.999345         0.007515   \n",
       "763           10190                   10183  0.999313         0.198366   \n",
       "6474           1435                    1434  0.999303         0.027986   \n",
       "3983           2809                    2807  0.999288         0.033652   \n",
       "1583           1006                    1005  0.999006         0.007552   \n",
       "2144            961                     960  0.998959         0.006108   \n",
       "3951           2602                    2599  0.998847         0.019338   \n",
       "6563           1679                    1677  0.998809         0.014627   \n",
       "\n",
       "                             diversity_of_close_systems  \\\n",
       "767   {'padloc:name=Cas2e,system=cas_type_I-E;defens...   \n",
       "764   {'padloc:name=Cas2e,system=cas_type_I-E;defens...   \n",
       "766   {'padloc:name=Cas2e,system=cas_type_I-E;defens...   \n",
       "1814  {'padloc:name=Cas5e,system=cas_type_I-E;defens...   \n",
       "768   {'padloc:name=Cas2e,system=cas_type_I-E;defens...   \n",
       "2180  {'NA;defensefinder:name=Mokosh_TypeII_MkoC,sys...   \n",
       "2181  {'NA;defensefinder:name=Mokosh_TypeII_MkoC,sys...   \n",
       "2184  {'NA;defensefinder:name=Mokosh_TypeII_MkoC,sys...   \n",
       "765   {'padloc:name=Cas2e,system=cas_type_I-E;defens...   \n",
       "6600  {'padloc:name=DruE3,system=druantia_type_III;d...   \n",
       "6599  {'padloc:name=DruE3,system=druantia_type_III;d...   \n",
       "769   {'padloc:name=Cas2e,system=cas_type_I-E;defens...   \n",
       "2282  {'padloc:name=Cyclase,system=cbass_type_I;defe...   \n",
       "763   {'padloc:name=Cas2e,system=cas_type_I-E;defens...   \n",
       "6474  {'padloc:name=Cas3e,system=cas_type_I-E;defens...   \n",
       "3983  {'padloc:name=Specificity_I,system=DMS_other;d...   \n",
       "1583  {'padloc:name=REase_I,system=DMS_other;defense...   \n",
       "2144  {'NA;defensefinder:name=LmuA_effector_Mrr,syst...   \n",
       "3951  {'padloc:name=Hp3,system=3HP;defensefinder:nam...   \n",
       "6563  {'padloc:name=REase_III,system=DMS_other;defen...   \n",
       "\n",
       "      mean_closest_bait_distance  std_closest_bait_distance  \\\n",
       "767                          NaN                        NaN   \n",
       "764                          NaN                        NaN   \n",
       "766                          NaN                        NaN   \n",
       "1814                         NaN                        NaN   \n",
       "768                          NaN                        NaN   \n",
       "2180                         NaN                        NaN   \n",
       "2181                         NaN                        NaN   \n",
       "2184                         NaN                        NaN   \n",
       "765                          NaN                        NaN   \n",
       "6600                         NaN                        NaN   \n",
       "6599                         NaN                        NaN   \n",
       "769                          NaN                        NaN   \n",
       "2282                         NaN                        NaN   \n",
       "763                          NaN                        NaN   \n",
       "6474                         NaN                        NaN   \n",
       "3983                         NaN                        NaN   \n",
       "1583                         NaN                        NaN   \n",
       "2144                         NaN                        NaN   \n",
       "3951                         NaN                        NaN   \n",
       "6563                         NaN                        NaN   \n",
       "\n",
       "      cv_closest_bait_distance  \n",
       "767                        NaN  \n",
       "764                        NaN  \n",
       "766                        NaN  \n",
       "1814                       NaN  \n",
       "768                        NaN  \n",
       "2180                       NaN  \n",
       "2181                       NaN  \n",
       "2184                       NaN  \n",
       "765                        NaN  \n",
       "6600                       NaN  \n",
       "6599                       NaN  \n",
       "769                        NaN  \n",
       "2282                       NaN  \n",
       "763                        NaN  \n",
       "6474                       NaN  \n",
       "3983                       NaN  \n",
       "1583                       NaN  \n",
       "2144                       NaN  \n",
       "3951                       NaN  \n",
       "6563                       NaN  "
      ]
     },
     "execution_count": 91,
     "metadata": {},
     "output_type": "execute_result"
    }
   ],
   "source": [
    "icity_df.sort_values(['icity', 'diversity_score'], ascending=False).query('icity < 1').head(20)"
   ]
  },
  {
   "cell_type": "markdown",
   "id": "64ded1f9-6993-417b-b646-d1672f57aff7",
   "metadata": {},
   "source": [
    "# Network"
   ]
  },
  {
   "cell_type": "code",
   "execution_count": 3,
   "id": "f0fc3c4a-8bdb-4afc-bc07-884504263718",
   "metadata": {
    "tags": []
   },
   "outputs": [],
   "source": [
    "all_cds_location = '../../icity_input/all_cds.tsv'\n",
    "dfs_prediction = '../../icity_input/dfs_prediction.sample.tsv'\n",
    "cluster_file = '../../icity_input/mmseqs_cluster.tsv'"
   ]
  },
  {
   "cell_type": "code",
   "execution_count": 3,
   "id": "f565b752-f421-46d3-812c-0a7bacca2602",
   "metadata": {
    "jupyter": {
     "source_hidden": true
    },
    "tags": []
   },
   "outputs": [],
   "source": [
    "# Functions \n",
    "def get_sequential_groups(vals: iter) -> list:\n",
    "    \"\"\" This functions take as input a SORTED iterables with UNIQUE values\n",
    "        and returns a list with all groups that are sequential labaled by a\n",
    "        interger index.\n",
    "        Ex: \n",
    "        $ get_sequential_groups([1528, 1529, 1530, 1531, 1559, 1560, 1561, 1562, 1565, 1566])\n",
    "        [1, 1, 1, 1, 2, 2, 2, 2, 3, 3]\n",
    "    \"\"\"\n",
    "    groups_index = 1\n",
    "    groups = []\n",
    "    stack = []\n",
    "    for i in vals:\n",
    "        \n",
    "        if not stack:\n",
    "            stack.append(i)\n",
    "            groups.append(groups_index)\n",
    "            continue\n",
    "            \n",
    "        if i == stack[-1] + 1:\n",
    "            stack.append(i)\n",
    "            groups.append(groups_index)\n",
    "            \n",
    "        else:\n",
    "            groups_index += 1\n",
    "            groups.append(groups_index)\n",
    "            stack = [i]\n",
    "            \n",
    "    return groups\n",
    "\n",
    "\n",
    "def check_neighborhood(all_items: iter, range_to_check: int = 10) -> list:\n",
    "    if not any(all_items):\n",
    "        for i in all_items:\n",
    "            yield None\n",
    "        return\n",
    "    \n",
    "    all_indexes = tuple(enumerate(all_items))\n",
    "    baits_location = sorted(set(i for i, x in all_indexes if x))\n",
    "    \n",
    "    for indx, _ in all_indexes:\n",
    "        \n",
    "        if indx in baits_location:\n",
    "            yield 'is_bait'\n",
    "            continue\n",
    "           \n",
    "        if min(map(lambda x: abs(indx - x), baits_location)) <= range_to_check:\n",
    "            yield 'is_close'\n",
    "            continue\n",
    "        \n",
    "        yield None\n",
    "\n",
    "\n",
    "def get_distance_from_baits(df) -> tuple:\n",
    "    bait_coords = set(df.query('bait_assign == \"is_bait\"').start.values.tolist())\n",
    "    \n",
    "    for start_coord, bait_assign in df.values.tolist():\n",
    "        if not bait_assign:\n",
    "            yield None\n",
    "            continue\n",
    "            \n",
    "        if start_coord in bait_coords:\n",
    "            yield 0\n",
    "            continue\n",
    "        \n",
    "        yield min(map(lambda x: abs(start_coord - x), bait_coords))\n",
    "\n",
    "def get_name_percentage(info_list):\n",
    "    total_info = len(info_list)\n",
    "    name_counts = Counter(re.findall('(?<=Name\\=).+?(?=\\;)' ,';'.join(info_list)))\n",
    "    total_count = sum(name_counts.values())\n",
    "    \n",
    "    results = []\n",
    "    for name, count in name_counts.items():\n",
    "        results.append('{}={}%'.format(name, round((count/total_info)*100, 2)))\n",
    "    \n",
    "    if not total_count == total_info:\n",
    "        results.append('Hypothetical protein={}%'.format(round(((total_info - total_count)/total_info)*100, 2)))\n",
    "    \n",
    "    return ';'.join(results)\n",
    "\n",
    "\n",
    "def get_name_systems(info_list):\n",
    "    name_counts = Counter(re.findall('(?<=system\\=).+?(?=\\;)', ';'.join(info_list)))\n",
    "    \n",
    "    results = []\n",
    "    \n",
    "    if not name_counts:\n",
    "        return None\n",
    "    \n",
    "    for name, count in name_counts.items():\n",
    "        results.append('{}'.format(name))\n",
    "    \n",
    "    return ';'.join(results)\n",
    "\n",
    "\n",
    "def get_edges(topology: iter):\n",
    "    for indx, cluster_id in enumerate(topology):\n",
    "        try:\n",
    "            yield (cluster_id, topology[indx + 1])\n",
    "        except IndexError:\n",
    "            pass\n",
    "        \n",
    "\n",
    "def assign_loci_id(bait_assign_iter):\n",
    "    current_loci_index = 1\n",
    "    is_inside_loci = False\n",
    "    \n",
    "    for description in bait_assign_iter:\n",
    "        \n",
    "        if not description and is_inside_loci:\n",
    "            current_loci_index += 1\n",
    "        \n",
    "        if not description:\n",
    "            is_inside_loci = False\n",
    "            yield None\n",
    "            continue\n",
    "        \n",
    "        is_inside_loci = True\n",
    "        yield 'loci_{}'.format(str(current_loci_index))\n",
    "\n",
    "        \n",
    "def most_common_name(annotations: iter):\n",
    "    for annotation in annotations:\n",
    "        if not annotation:\n",
    "            yield 'NA'\n",
    "            continue\n",
    "        \n",
    "        yield sorted(map(lambda x: x.split('='), annotation.split(';')), key = lambda x: float(x[1].replace('%', '')), reverse=True)[0][0]\n",
    "        \n",
    "    "
   ]
  },
  {
   "cell_type": "code",
   "execution_count": 4,
   "id": "7529ca41-3c75-4b7f-b850-e5456620a8c8",
   "metadata": {
    "collapsed": true,
    "jupyter": {
     "outputs_hidden": true,
     "source_hidden": true
    },
    "tags": []
   },
   "outputs": [
    {
     "name": "stderr",
     "output_type": "stream",
     "text": [
      "UserWarning: Ray execution environment not yet initialized. Initializing...\n",
      "To remove this warning, run the following python code before doing dataframe operations:\n",
      "\n",
      "    import ray\n",
      "    ray.init()\n",
      "\n",
      "UserWarning: sort_values defaulting to pandas implementation.\n",
      "Please refer to https://modin.readthedocs.io/en/stable/supported_apis/defaulting_to_pandas.html for explanation.\n"
     ]
    },
    {
     "data": {
      "text/html": [
       "<div>\n",
       "<style scoped>\n",
       "    .dataframe tbody tr th:only-of-type {\n",
       "        vertical-align: middle;\n",
       "    }\n",
       "\n",
       "    .dataframe tbody tr th {\n",
       "        vertical-align: top;\n",
       "    }\n",
       "\n",
       "    .dataframe thead th {\n",
       "        text-align: right;\n",
       "    }\n",
       "</style>\n",
       "<table border=\"1\" class=\"dataframe\">\n",
       "  <thead>\n",
       "    <tr style=\"text-align: right;\">\n",
       "      <th></th>\n",
       "      <th>locus_tag</th>\n",
       "      <th>contig_id</th>\n",
       "      <th>start</th>\n",
       "      <th>end</th>\n",
       "      <th>strand</th>\n",
       "      <th>info</th>\n",
       "      <th>csd_lenght</th>\n",
       "      <th>dfs_prediction</th>\n",
       "      <th>seeds</th>\n",
       "      <th>bait_assign</th>\n",
       "      <th>distance_to_bait</th>\n",
       "      <th>loci_id</th>\n",
       "    </tr>\n",
       "  </thead>\n",
       "  <tbody>\n",
       "    <tr>\n",
       "      <th>0</th>\n",
       "      <td>KDHGNBDG_00001</td>\n",
       "      <td>1395103.4_1</td>\n",
       "      <td>81</td>\n",
       "      <td>626</td>\n",
       "      <td>-</td>\n",
       "      <td>ID=KDHGNBDG_00001;eC_number=1.3.5.3;Name=hemG;...</td>\n",
       "      <td>545</td>\n",
       "      <td>NaN</td>\n",
       "      <td>IOMDNFNB_03950</td>\n",
       "      <td>None</td>\n",
       "      <td>None</td>\n",
       "      <td>None</td>\n",
       "    </tr>\n",
       "    <tr>\n",
       "      <th>1</th>\n",
       "      <td>KDHGNBDG_00002</td>\n",
       "      <td>1395103.4_1</td>\n",
       "      <td>638</td>\n",
       "      <td>2089</td>\n",
       "      <td>-</td>\n",
       "      <td>ID=KDHGNBDG_00002;Name=trkH;db_xref=COG:COG016...</td>\n",
       "      <td>1451</td>\n",
       "      <td>NaN</td>\n",
       "      <td>IOMDNFNB_03949</td>\n",
       "      <td>None</td>\n",
       "      <td>None</td>\n",
       "      <td>None</td>\n",
       "    </tr>\n",
       "    <tr>\n",
       "      <th>2</th>\n",
       "      <td>KDHGNBDG_00003</td>\n",
       "      <td>1395103.4_1</td>\n",
       "      <td>2128</td>\n",
       "      <td>2742</td>\n",
       "      <td>-</td>\n",
       "      <td>ID=KDHGNBDG_00003;Name=yigZ;db_xref=COG:COG173...</td>\n",
       "      <td>614</td>\n",
       "      <td>NaN</td>\n",
       "      <td>GBGIPKHN_04153</td>\n",
       "      <td>None</td>\n",
       "      <td>None</td>\n",
       "      <td>None</td>\n",
       "    </tr>\n",
       "    <tr>\n",
       "      <th>3</th>\n",
       "      <td>KDHGNBDG_00004</td>\n",
       "      <td>1395103.4_1</td>\n",
       "      <td>2742</td>\n",
       "      <td>4073</td>\n",
       "      <td>-</td>\n",
       "      <td>ID=KDHGNBDG_00004;eC_number=3.4.13.9;Name=pepQ...</td>\n",
       "      <td>1331</td>\n",
       "      <td>NaN</td>\n",
       "      <td>IOMDNFNB_03947</td>\n",
       "      <td>None</td>\n",
       "      <td>None</td>\n",
       "      <td>None</td>\n",
       "    </tr>\n",
       "    <tr>\n",
       "      <th>4</th>\n",
       "      <td>KDHGNBDG_00005</td>\n",
       "      <td>1395103.4_1</td>\n",
       "      <td>4264</td>\n",
       "      <td>6453</td>\n",
       "      <td>+</td>\n",
       "      <td>ID=KDHGNBDG_00005;Name=fadB;db_xref=COG:COG102...</td>\n",
       "      <td>2189</td>\n",
       "      <td>NaN</td>\n",
       "      <td>IOMDNFNB_03946</td>\n",
       "      <td>None</td>\n",
       "      <td>None</td>\n",
       "      <td>None</td>\n",
       "    </tr>\n",
       "  </tbody>\n",
       "</table>\n",
       "</div>"
      ],
      "text/plain": [
       "        locus_tag    contig_id  start   end strand  \\\n",
       "0  KDHGNBDG_00001  1395103.4_1     81   626      -   \n",
       "1  KDHGNBDG_00002  1395103.4_1    638  2089      -   \n",
       "2  KDHGNBDG_00003  1395103.4_1   2128  2742      -   \n",
       "3  KDHGNBDG_00004  1395103.4_1   2742  4073      -   \n",
       "4  KDHGNBDG_00005  1395103.4_1   4264  6453      +   \n",
       "\n",
       "                                                info  csd_lenght  \\\n",
       "0  ID=KDHGNBDG_00001;eC_number=1.3.5.3;Name=hemG;...         545   \n",
       "1  ID=KDHGNBDG_00002;Name=trkH;db_xref=COG:COG016...        1451   \n",
       "2  ID=KDHGNBDG_00003;Name=yigZ;db_xref=COG:COG173...         614   \n",
       "3  ID=KDHGNBDG_00004;eC_number=3.4.13.9;Name=pepQ...        1331   \n",
       "4  ID=KDHGNBDG_00005;Name=fadB;db_xref=COG:COG102...        2189   \n",
       "\n",
       "  dfs_prediction           seeds bait_assign distance_to_bait loci_id  \n",
       "0            NaN  IOMDNFNB_03950        None             None    None  \n",
       "1            NaN  IOMDNFNB_03949        None             None    None  \n",
       "2            NaN  GBGIPKHN_04153        None             None    None  \n",
       "3            NaN  IOMDNFNB_03947        None             None    None  \n",
       "4            NaN  IOMDNFNB_03946        None             None    None  "
      ]
     },
     "execution_count": 4,
     "metadata": {},
     "output_type": "execute_result"
    }
   ],
   "source": [
    "cds_df = (pd.read_csv(all_cds_location, header=None, sep='\\t')\n",
    "          .rename(columns = dict(zip(range(6), ['locus_tag', 'contig_id', 'start', 'end', 'strand', 'info'])))\n",
    "          .assign(contig_index = lambda df: df.contig_id.apply(lambda contig_id: int(contig_id.split('_')[1])))\n",
    "          .sort_values(['contig_id', 'contig_index', 'start'])\n",
    "          .drop('contig_index', axis=1)\n",
    "          .assign(csd_lenght = lambda df: df.end - df.start )\n",
    "          .merge(\n",
    "              pd.read_csv(dfs_prediction, header=None, sep=' ').rename(columns={0: 'locus_tag', 1: 'dfs_prediction'}),\n",
    "              on=['locus_tag'],\n",
    "              how='left'\n",
    "          )\n",
    "          .merge(\n",
    "              pd.read_csv(cluster_file, header=None, sep='\\t').rename(columns={0: 'seeds', 1: 'locus_tag'}),\n",
    "              on=['locus_tag'],\n",
    "              how='inner'\n",
    "          )\n",
    "          .groupby('contig_id', as_index=False)\n",
    "          .apply(lambda gdf: (gdf\n",
    "                              .assign(bait_assign = lambda x: tuple(check_neighborhood(x.dfs_prediction.fillna(0).values)))\n",
    "                              .assign(distance_to_bait = lambda x: tuple(get_distance_from_baits(x.loc[:, ['start', 'bait_assign']])))\n",
    "                              .assign(loci_id = lambda x: tuple(assign_loci_id(x.bait_assign)))\n",
    "                             ))\n",
    "         )\n",
    "\n",
    "cds_df.head()"
   ]
  },
  {
   "cell_type": "code",
   "execution_count": 224,
   "id": "b68a349a-ebdd-4863-b4ed-886fa1d2115a",
   "metadata": {
    "collapsed": true,
    "jupyter": {
     "outputs_hidden": true,
     "source_hidden": true
    },
    "tags": []
   },
   "outputs": [
    {
     "name": "stderr",
     "output_type": "stream",
     "text": [
      "UserWarning: sort_values defaulting to pandas implementation.\n",
      "UserWarning: `Series.to_dict` defaulting to pandas implementation.\n"
     ]
    },
    {
     "data": {
      "text/html": [
       "<div>\n",
       "<style scoped>\n",
       "    .dataframe tbody tr th:only-of-type {\n",
       "        vertical-align: middle;\n",
       "    }\n",
       "\n",
       "    .dataframe tbody tr th {\n",
       "        vertical-align: top;\n",
       "    }\n",
       "\n",
       "    .dataframe thead th {\n",
       "        text-align: right;\n",
       "    }\n",
       "</style>\n",
       "<table border=\"1\" class=\"dataframe\">\n",
       "  <thead>\n",
       "    <tr style=\"text-align: right;\">\n",
       "      <th></th>\n",
       "      <th>seeds</th>\n",
       "      <th>members_count</th>\n",
       "      <th>icity</th>\n",
       "      <th>diversity_score</th>\n",
       "      <th>mean_distance_to_bait</th>\n",
       "      <th>members_close_to_baits</th>\n",
       "      <th>locus_tags</th>\n",
       "      <th>members_names</th>\n",
       "      <th>is_bait_count</th>\n",
       "      <th>is_bait_perc</th>\n",
       "      <th>dfs_names</th>\n",
       "      <th>cds_lenght_mean</th>\n",
       "    </tr>\n",
       "  </thead>\n",
       "  <tbody>\n",
       "    <tr>\n",
       "      <th>0</th>\n",
       "      <td>IOMDNFNB_02782</td>\n",
       "      <td>10</td>\n",
       "      <td>0.100000</td>\n",
       "      <td>0.024390</td>\n",
       "      <td>25864.0</td>\n",
       "      <td>1</td>\n",
       "      <td>KDHGNBDG_03097,ACCAFLOF_04505,HDGJAOOK_04407,B...</td>\n",
       "      <td>ratA=100.0%</td>\n",
       "      <td>0</td>\n",
       "      <td>0.0</td>\n",
       "      <td>None</td>\n",
       "      <td>437.000000</td>\n",
       "    </tr>\n",
       "    <tr>\n",
       "      <th>1</th>\n",
       "      <td>IOMDNFNB_02783</td>\n",
       "      <td>10</td>\n",
       "      <td>0.100000</td>\n",
       "      <td>0.024390</td>\n",
       "      <td>25193.0</td>\n",
       "      <td>1</td>\n",
       "      <td>KDHGNBDG_03098,ACCAFLOF_04506,HDGJAOOK_04406,B...</td>\n",
       "      <td>smpB=100.0%</td>\n",
       "      <td>0</td>\n",
       "      <td>0.0</td>\n",
       "      <td>None</td>\n",
       "      <td>527.000000</td>\n",
       "    </tr>\n",
       "    <tr>\n",
       "      <th>2</th>\n",
       "      <td>MPAOKENP_02509</td>\n",
       "      <td>9</td>\n",
       "      <td>0.222222</td>\n",
       "      <td>0.073171</td>\n",
       "      <td>18952.5</td>\n",
       "      <td>2</td>\n",
       "      <td>KDHGNBDG_03099,ACCAFLOF_04507,HDGJAOOK_04432,B...</td>\n",
       "      <td>Hypothetical protein=100.0%</td>\n",
       "      <td>0</td>\n",
       "      <td>0.0</td>\n",
       "      <td>None</td>\n",
       "      <td>11410.333333</td>\n",
       "    </tr>\n",
       "    <tr>\n",
       "      <th>3</th>\n",
       "      <td>BKDLJELO_03110</td>\n",
       "      <td>9</td>\n",
       "      <td>0.111111</td>\n",
       "      <td>0.024390</td>\n",
       "      <td>18014.0</td>\n",
       "      <td>1</td>\n",
       "      <td>ACCAFLOF_00753,HDGJAOOK_02664,BKDLJELO_03110,G...</td>\n",
       "      <td>yeeO=100.0%</td>\n",
       "      <td>0</td>\n",
       "      <td>0.0</td>\n",
       "      <td>None</td>\n",
       "      <td>1431.000000</td>\n",
       "    </tr>\n",
       "    <tr>\n",
       "      <th>4</th>\n",
       "      <td>HOHECEAN_01031</td>\n",
       "      <td>8</td>\n",
       "      <td>0.125000</td>\n",
       "      <td>0.024390</td>\n",
       "      <td>17780.0</td>\n",
       "      <td>1</td>\n",
       "      <td>ACCAFLOF_00019,HDGJAOOK_02829,BKDLJELO_02986,G...</td>\n",
       "      <td>pipB2=100.0%</td>\n",
       "      <td>0</td>\n",
       "      <td>0.0</td>\n",
       "      <td>None</td>\n",
       "      <td>1052.000000</td>\n",
       "    </tr>\n",
       "  </tbody>\n",
       "</table>\n",
       "</div>"
      ],
      "text/plain": [
       "            seeds  members_count     icity  diversity_score  \\\n",
       "0  IOMDNFNB_02782             10  0.100000         0.024390   \n",
       "1  IOMDNFNB_02783             10  0.100000         0.024390   \n",
       "2  MPAOKENP_02509              9  0.222222         0.073171   \n",
       "3  BKDLJELO_03110              9  0.111111         0.024390   \n",
       "4  HOHECEAN_01031              8  0.125000         0.024390   \n",
       "\n",
       "   mean_distance_to_bait  members_close_to_baits  \\\n",
       "0                25864.0                       1   \n",
       "1                25193.0                       1   \n",
       "2                18952.5                       2   \n",
       "3                18014.0                       1   \n",
       "4                17780.0                       1   \n",
       "\n",
       "                                          locus_tags  \\\n",
       "0  KDHGNBDG_03097,ACCAFLOF_04505,HDGJAOOK_04407,B...   \n",
       "1  KDHGNBDG_03098,ACCAFLOF_04506,HDGJAOOK_04406,B...   \n",
       "2  KDHGNBDG_03099,ACCAFLOF_04507,HDGJAOOK_04432,B...   \n",
       "3  ACCAFLOF_00753,HDGJAOOK_02664,BKDLJELO_03110,G...   \n",
       "4  ACCAFLOF_00019,HDGJAOOK_02829,BKDLJELO_02986,G...   \n",
       "\n",
       "                 members_names  is_bait_count  is_bait_perc dfs_names  \\\n",
       "0                  ratA=100.0%              0           0.0      None   \n",
       "1                  smpB=100.0%              0           0.0      None   \n",
       "2  Hypothetical protein=100.0%              0           0.0      None   \n",
       "3                  yeeO=100.0%              0           0.0      None   \n",
       "4                 pipB2=100.0%              0           0.0      None   \n",
       "\n",
       "   cds_lenght_mean  \n",
       "0       437.000000  \n",
       "1       527.000000  \n",
       "2     11410.333333  \n",
       "3      1431.000000  \n",
       "4      1052.000000  "
      ]
     },
     "execution_count": 224,
     "metadata": {},
     "output_type": "execute_result"
    }
   ],
   "source": [
    "seeds_df = (cds_df.groupby('seeds')\n",
    "            .agg({\n",
    "                'seeds'           : 'count',\n",
    "                'bait_assign'     : [\n",
    "                    lambda x: x.where(lambda x: x != None).dropna().shape[0],\n",
    "                    lambda x: x.where(lambda x: x == 'is_bait').dropna().shape[0],\n",
    "                ],\n",
    "                'locus_tag'       : lambda x: ','.join(x.values.tolist()),\n",
    "                'distance_to_bait': 'mean',\n",
    "                'info'            : lambda x: get_name_percentage(x.values),\n",
    "                'dfs_prediction'  : lambda x: get_name_systems(x.fillna('NA')),\n",
    "                'csd_lenght'      : 'mean',\n",
    "            })\n",
    "            .droplevel(0, axis=1))\n",
    "\n",
    "seeds_df.columns = ['members_count', 'members_close_to_baits', 'is_bait_count', 'locus_tags', 'mean_distance_to_bait', 'members_names', 'dfs_names', 'cds_lenght_mean']\n",
    "\n",
    "\n",
    "seeds_df = (seeds_df\n",
    "            .query('members_close_to_baits > 0')\n",
    "            .assign(icity = lambda df: df.members_close_to_baits / df.members_count)\n",
    "            .sort_values('mean_distance_to_bait', ascending=False)\n",
    "            [['members_count', 'icity', 'mean_distance_to_bait', 'members_close_to_baits', 'is_bait_count', 'locus_tags', 'members_names', 'dfs_names', 'cds_lenght_mean']]\n",
    "            .assign(is_bait_perc = lambda df: df.is_bait_count / df.members_count)\n",
    "            [['members_count', 'icity', 'mean_distance_to_bait', 'members_close_to_baits', 'locus_tags', 'members_names', 'is_bait_count', 'is_bait_perc', 'dfs_names', 'cds_lenght_mean']]\n",
    "            .reset_index()\n",
    "           )\n",
    "\n",
    "\n",
    "dfs_dict = (cds_df\n",
    "            .groupby(['contig_id', 'loci_id'])\n",
    "            .apply(\n",
    "                lambda df: df.assign(group_systems = tuple(assign_loci_id(df.fillna(0).dfs_prediction)))\n",
    "            )\n",
    "            .query('group_systems.notna()')\n",
    "            .groupby(['contig_id', 'loci_id', 'group_systems'])\n",
    "            .agg({'seeds': lambda x: sorted(tuple(x.values))})\n",
    "            .droplevel('group_systems')\n",
    "            .reset_index()\n",
    "            .groupby(['contig_id', 'loci_id'])\n",
    "            .agg({'seeds': lambda x: x.values.tolist()})).seeds.to_dict()\n",
    "\n",
    "dfs_count = len(set(map(tuple, chain.from_iterable(dfs_dict.values()))))\n",
    "\n",
    "seeds_df = seeds_df.merge(\n",
    "    (cds_df.loc[:,['seeds', 'contig_id', 'loci_id']]\n",
    "     .query('loci_id.notna()')\n",
    "     .drop_duplicates()\n",
    "     .assign(tup_query = lambda df: tuple(map(lambda x: tuple(x), df[['contig_id', 'loci_id']].values.tolist())))\n",
    "     .assign(diversity_count = lambda df: df.tup_query.apply(lambda x:  tuple(map(lambda y: tuple(y), dfs_dict.get(x, None))) ))\n",
    "     .groupby('seeds')\n",
    "     .agg({'diversity_count': lambda x: len(set(chain.from_iterable(x.values)))})\n",
    "     .assign(diversity_score = lambda df: df.diversity_count / dfs_count)),\n",
    "    on=['seeds'],\n",
    "    how='inner'\n",
    ")[['seeds', 'members_count', 'icity', 'diversity_score', 'mean_distance_to_bait', 'members_close_to_baits', 'locus_tags', 'members_names', 'is_bait_count', 'is_bait_perc', 'dfs_names', 'cds_lenght_mean']]\n",
    "\n",
    "\n",
    "seeds_df.head()"
   ]
  },
  {
   "cell_type": "code",
   "execution_count": 9,
   "id": "0126438b-7398-4435-9d26-843eb76f2782",
   "metadata": {
    "jupyter": {
     "source_hidden": true
    },
    "tags": []
   },
   "outputs": [],
   "source": [
    "seeds_df = pd.read_csv('/home/hugo/projects/salmonella-bacterial-immunity/icity_input/seeds_df.tsv.gz', sep='\\t').head()"
   ]
  },
  {
   "cell_type": "markdown",
   "id": "a60235fb-a215-4237-81bb-8c9a4c81d186",
   "metadata": {},
   "source": [
    "# START HERE"
   ]
  },
  {
   "cell_type": "code",
   "execution_count": 6,
   "id": "c87d7774-9c57-4ee3-b1e3-12833feb4a89",
   "metadata": {
    "tags": []
   },
   "outputs": [],
   "source": [
    "# Network variables\n",
    "max_diameter_size = 230\n",
    "min_diameter_size = 10\n",
    "\n",
    "max_edge_size = 60\n",
    "min_edge_size = 1\n",
    "\n",
    "max_border_size = 60\n",
    "min_border_size = 1\n",
    "\n",
    "\n",
    "min_bait_count_to_be_bait = .2\n",
    "\n",
    "default_color = '#d4ecff'\n"
   ]
  },
  {
   "cell_type": "code",
   "execution_count": 12,
   "id": "8564d314-dbff-489b-a0fd-5168d26eb245",
   "metadata": {
    "collapsed": true,
    "jupyter": {
     "outputs_hidden": true,
     "source_hidden": true
    },
    "tags": []
   },
   "outputs": [
    {
     "data": {
      "text/html": [
       "<div>\n",
       "<style scoped>\n",
       "    .dataframe tbody tr th:only-of-type {\n",
       "        vertical-align: middle;\n",
       "    }\n",
       "\n",
       "    .dataframe tbody tr th {\n",
       "        vertical-align: top;\n",
       "    }\n",
       "\n",
       "    .dataframe thead th {\n",
       "        text-align: right;\n",
       "    }\n",
       "</style>\n",
       "<table border=\"1\" class=\"dataframe\">\n",
       "  <thead>\n",
       "    <tr style=\"text-align: right;\">\n",
       "      <th></th>\n",
       "      <th>id</th>\n",
       "      <th>members_count</th>\n",
       "      <th>icity</th>\n",
       "      <th>diversity_score</th>\n",
       "      <th>mean_distance_to_bait</th>\n",
       "      <th>members_close_to_baits</th>\n",
       "      <th>members_names</th>\n",
       "      <th>is_bait_count</th>\n",
       "      <th>is_bait_perc</th>\n",
       "      <th>dfs_names</th>\n",
       "      <th>cds_lenght_mean</th>\n",
       "      <th>node_size</th>\n",
       "      <th>node_shape</th>\n",
       "      <th>dfs_label</th>\n",
       "      <th>node_color</th>\n",
       "      <th>border_size</th>\n",
       "    </tr>\n",
       "  </thead>\n",
       "  <tbody>\n",
       "    <tr>\n",
       "      <th>0</th>\n",
       "      <td>LBGIAHIP_02704</td>\n",
       "      <td>16180</td>\n",
       "      <td>0.000062</td>\n",
       "      <td>0.000459</td>\n",
       "      <td>29810.0</td>\n",
       "      <td>1</td>\n",
       "      <td>yfgJ=99.96%;yfgJ_2=0.01%;yfgJ_1=0.02%</td>\n",
       "      <td>0</td>\n",
       "      <td>0.0</td>\n",
       "      <td>NaN</td>\n",
       "      <td>220.986465</td>\n",
       "      <td>230</td>\n",
       "      <td>ELLIPSE</td>\n",
       "      <td>None</td>\n",
       "      <td>#d4ecff</td>\n",
       "      <td>1</td>\n",
       "    </tr>\n",
       "    <tr>\n",
       "      <th>1</th>\n",
       "      <td>KMNDBCDK_03119</td>\n",
       "      <td>11789</td>\n",
       "      <td>0.000085</td>\n",
       "      <td>0.000459</td>\n",
       "      <td>29242.0</td>\n",
       "      <td>1</td>\n",
       "      <td>eae=0.02%;Hypothetical protein=99.98%</td>\n",
       "      <td>0</td>\n",
       "      <td>0.0</td>\n",
       "      <td>NaN</td>\n",
       "      <td>2191.674782</td>\n",
       "      <td>167</td>\n",
       "      <td>ELLIPSE</td>\n",
       "      <td>None</td>\n",
       "      <td>#d4ecff</td>\n",
       "      <td>1</td>\n",
       "    </tr>\n",
       "    <tr>\n",
       "      <th>2</th>\n",
       "      <td>MAKOHINP_02374</td>\n",
       "      <td>1913</td>\n",
       "      <td>0.000523</td>\n",
       "      <td>0.000459</td>\n",
       "      <td>26992.0</td>\n",
       "      <td>1</td>\n",
       "      <td>Hypothetical protein=100.0%</td>\n",
       "      <td>0</td>\n",
       "      <td>0.0</td>\n",
       "      <td>NaN</td>\n",
       "      <td>965.664924</td>\n",
       "      <td>27</td>\n",
       "      <td>ELLIPSE</td>\n",
       "      <td>None</td>\n",
       "      <td>#d4ecff</td>\n",
       "      <td>1</td>\n",
       "    </tr>\n",
       "    <tr>\n",
       "      <th>3</th>\n",
       "      <td>DCEJALHG_01880</td>\n",
       "      <td>921</td>\n",
       "      <td>0.001086</td>\n",
       "      <td>0.000459</td>\n",
       "      <td>26426.0</td>\n",
       "      <td>1</td>\n",
       "      <td>dhbE=100.0%</td>\n",
       "      <td>0</td>\n",
       "      <td>0.0</td>\n",
       "      <td>NaN</td>\n",
       "      <td>1577.029316</td>\n",
       "      <td>13</td>\n",
       "      <td>ELLIPSE</td>\n",
       "      <td>None</td>\n",
       "      <td>#d4ecff</td>\n",
       "      <td>1</td>\n",
       "    </tr>\n",
       "    <tr>\n",
       "      <th>4</th>\n",
       "      <td>AKFFODHP_04157</td>\n",
       "      <td>908</td>\n",
       "      <td>0.002203</td>\n",
       "      <td>0.000919</td>\n",
       "      <td>26241.0</td>\n",
       "      <td>2</td>\n",
       "      <td>Hypothetical protein=100.0%</td>\n",
       "      <td>0</td>\n",
       "      <td>0.0</td>\n",
       "      <td>NaN</td>\n",
       "      <td>1099.914097</td>\n",
       "      <td>12</td>\n",
       "      <td>ELLIPSE</td>\n",
       "      <td>None</td>\n",
       "      <td>#d4ecff</td>\n",
       "      <td>1</td>\n",
       "    </tr>\n",
       "  </tbody>\n",
       "</table>\n",
       "</div>"
      ],
      "text/plain": [
       "               id  members_count     icity  diversity_score  \\\n",
       "0  LBGIAHIP_02704          16180  0.000062         0.000459   \n",
       "1  KMNDBCDK_03119          11789  0.000085         0.000459   \n",
       "2  MAKOHINP_02374           1913  0.000523         0.000459   \n",
       "3  DCEJALHG_01880            921  0.001086         0.000459   \n",
       "4  AKFFODHP_04157            908  0.002203         0.000919   \n",
       "\n",
       "   mean_distance_to_bait  members_close_to_baits  \\\n",
       "0                29810.0                       1   \n",
       "1                29242.0                       1   \n",
       "2                26992.0                       1   \n",
       "3                26426.0                       1   \n",
       "4                26241.0                       2   \n",
       "\n",
       "                           members_names  is_bait_count  is_bait_perc  \\\n",
       "0  yfgJ=99.96%;yfgJ_2=0.01%;yfgJ_1=0.02%              0           0.0   \n",
       "1  eae=0.02%;Hypothetical protein=99.98%              0           0.0   \n",
       "2            Hypothetical protein=100.0%              0           0.0   \n",
       "3                            dhbE=100.0%              0           0.0   \n",
       "4            Hypothetical protein=100.0%              0           0.0   \n",
       "\n",
       "  dfs_names  cds_lenght_mean  node_size node_shape dfs_label node_color  \\\n",
       "0       NaN       220.986465        230    ELLIPSE      None    #d4ecff   \n",
       "1       NaN      2191.674782        167    ELLIPSE      None    #d4ecff   \n",
       "2       NaN       965.664924         27    ELLIPSE      None    #d4ecff   \n",
       "3       NaN      1577.029316         13    ELLIPSE      None    #d4ecff   \n",
       "4       NaN      1099.914097         12    ELLIPSE      None    #d4ecff   \n",
       "\n",
       "   border_size  \n",
       "0            1  \n",
       "1            1  \n",
       "2            1  \n",
       "3            1  \n",
       "4            1  "
      ]
     },
     "execution_count": 12,
     "metadata": {},
     "output_type": "execute_result"
    }
   ],
   "source": [
    "max_members_count = seeds_df.members_count.max()\n",
    "\n",
    "color_pallet = defaultdict(lambda: \"#%06x\" % random.randint(0, 0xFFFFFF))\n",
    "\n",
    "nodes = (seeds_df\n",
    "         .drop('locus_tags', axis=1)\n",
    "         .rename(columns={'seeds': 'id'})\n",
    "         .assign(node_size = lambda df: df.members_count.apply(lambda x: int((max_diameter_size * x)/max_members_count)))\n",
    "         .assign(node_shape = lambda df: df.is_bait_perc.apply(lambda x: 'TRIANGLE' if x > min_bait_count_to_be_bait else 'ELLIPSE'))\n",
    "         .assign(dfs_label = lambda df: df.dfs_names.apply(lambda x: None if not x or not isinstance(x, str) else x.upper().split(';')[-1].split('_')[0]))\n",
    "         .assign(node_color = lambda df: df.dfs_label.apply(lambda x: default_color if not x else color_pallet[x]))\n",
    "         .assign(node_color = lambda df: tuple(map(lambda x: default_color if x == 'ELLIPSE' else x[1], df[['node_shape', 'node_color']].values.tolist())))\n",
    "         .assign(border_size = lambda df: df.icity.apply(lambda x: max(min_border_size, int(x * max_border_size))))\n",
    "         .assign(border_size = lambda df: tuple(map(lambda x: min_border_size if x[0] == 'TRIANGLE' else x[1], df[['node_shape', 'border_size']].values.tolist())))\n",
    "        )\n",
    "\n",
    "nodes.head()"
   ]
  },
  {
   "cell_type": "code",
   "execution_count": null,
   "id": "273a89c8-f1f6-45af-8ca6-b592a2d6f64a",
   "metadata": {
    "jupyter": {
     "source_hidden": true
    },
    "tags": []
   },
   "outputs": [],
   "source": [
    "edges = (cds_df\n",
    "         .loc[:,['contig_id','seeds', 'bait_assign']]\n",
    "         .assign(loci_id = lambda df: tuple(assign_loci_id(df.bait_assign)))\n",
    "         .query('bait_assign.notna()')\n",
    "         .groupby(['contig_id', 'loci_id'])\n",
    "         .agg({\n",
    "             'seeds' : lambda series: tuple(get_edges(series.values))\n",
    "         })\n",
    "         .explode('seeds')\n",
    "         .reset_index()\n",
    "         .loc[:,'seeds']\n",
    "         .apply(lambda edge: sorted(edge, key=lambda seed_id: int(seed_id.split('_')[1])))\n",
    "         .to_frame()\n",
    "         .assign(source = lambda df: df.seeds.apply(lambda x: x[0]))\n",
    "         .assign(target = lambda df: df.seeds.apply(lambda x: x[1]))\n",
    "         .drop('seeds', axis=1)\n",
    "         .groupby(['source', 'target'], as_index=False)\n",
    "         .size()\n",
    "         .sort_values('size', ascending=False)\n",
    "         .rename(columns={'size': 'weight'})\n",
    "         .reset_index(drop=True))\n",
    "\n",
    "max_edge_count = edges.weight.max()\n",
    "\n",
    "\n",
    "\n",
    "edges = (edges\n",
    "         .assign(edge_size = lambda df: df.weight.apply(lambda x: max(min_edge_size, int((max_edge_size * x)/max_edge_count)))))\n",
    "\n",
    "\n",
    "edges.head()"
   ]
  },
  {
   "cell_type": "markdown",
   "id": "2c953224-bc76-446c-b411-dd2bf5b3ee95",
   "metadata": {},
   "source": [
    "# Cytoscape"
   ]
  },
  {
   "cell_type": "code",
   "execution_count": 7,
   "id": "c30f30a7-f6dc-46a9-baa3-6ea72c015f07",
   "metadata": {},
   "outputs": [],
   "source": [
    "nodes_fname = '/home/hugo/projects/salmonella-bacterial-immunity/icity_input/nodes_df.tsv'\n",
    "edges_fname = '/home/hugo/projects/salmonella-bacterial-immunity/icity_input/edges_df.tsv'"
   ]
  },
  {
   "cell_type": "code",
   "execution_count": 8,
   "id": "4177cd8f-5619-4d9f-b90e-5455fb9a155b",
   "metadata": {},
   "outputs": [
    {
     "name": "stderr",
     "output_type": "stream",
     "text": [
      "UserWarning: Ray execution environment not yet initialized. Initializing...\n",
      "To remove this warning, run the following python code before doing dataframe operations:\n",
      "\n",
      "    import ray\n",
      "    ray.init()\n",
      "\n"
     ]
    },
    {
     "data": {
      "text/html": [
       "<div>\n",
       "<style scoped>\n",
       "    .dataframe tbody tr th:only-of-type {\n",
       "        vertical-align: middle;\n",
       "    }\n",
       "\n",
       "    .dataframe tbody tr th {\n",
       "        vertical-align: top;\n",
       "    }\n",
       "\n",
       "    .dataframe thead th {\n",
       "        text-align: right;\n",
       "    }\n",
       "</style>\n",
       "<table border=\"1\" class=\"dataframe\">\n",
       "  <thead>\n",
       "    <tr style=\"text-align: right;\">\n",
       "      <th></th>\n",
       "      <th>id</th>\n",
       "      <th>members_count</th>\n",
       "      <th>icity</th>\n",
       "      <th>diversity_score</th>\n",
       "      <th>mean_distance_to_bait</th>\n",
       "      <th>members_close_to_baits</th>\n",
       "      <th>members_names</th>\n",
       "      <th>is_bait_count</th>\n",
       "      <th>is_bait_perc</th>\n",
       "      <th>dfs_names</th>\n",
       "      <th>cds_lenght_mean</th>\n",
       "      <th>node_size</th>\n",
       "      <th>node_shape</th>\n",
       "      <th>dfs_label</th>\n",
       "      <th>node_color</th>\n",
       "      <th>border_size</th>\n",
       "    </tr>\n",
       "  </thead>\n",
       "  <tbody>\n",
       "    <tr>\n",
       "      <th>108</th>\n",
       "      <td>ONMBJOCA_01516</td>\n",
       "      <td>16235</td>\n",
       "      <td>0.613736</td>\n",
       "      <td>0.091410</td>\n",
       "      <td>14790.134986</td>\n",
       "      <td>9964</td>\n",
       "      <td>mazG=99.98%;mazG_2=0.01%;mazG_1=0.01%</td>\n",
       "      <td>4</td>\n",
       "      <td>0.000246</td>\n",
       "      <td>cas_type_I-E;Cas</td>\n",
       "      <td>799.842747</td>\n",
       "      <td>115</td>\n",
       "      <td>ELLIPSE</td>\n",
       "      <td>CAS</td>\n",
       "      <td>#d4ecff</td>\n",
       "      <td>36</td>\n",
       "    </tr>\n",
       "    <tr>\n",
       "      <th>178</th>\n",
       "      <td>AOHLAGHF_05336</td>\n",
       "      <td>229</td>\n",
       "      <td>0.908297</td>\n",
       "      <td>0.003215</td>\n",
       "      <td>13584.307692</td>\n",
       "      <td>208</td>\n",
       "      <td>ompX_2=28.82%;ompX_1=70.74%;ompX_3=0.44%</td>\n",
       "      <td>0</td>\n",
       "      <td>0.000000</td>\n",
       "      <td>NaN</td>\n",
       "      <td>332.117904</td>\n",
       "      <td>10</td>\n",
       "      <td>ELLIPSE</td>\n",
       "      <td>NaN</td>\n",
       "      <td>#d4ecff</td>\n",
       "      <td>54</td>\n",
       "    </tr>\n",
       "    <tr>\n",
       "      <th>193</th>\n",
       "      <td>DJBBIFAA_02730</td>\n",
       "      <td>9975</td>\n",
       "      <td>0.848421</td>\n",
       "      <td>0.006431</td>\n",
       "      <td>13424.751861</td>\n",
       "      <td>8463</td>\n",
       "      <td>ail_3=43.19%;ail_2=29.77%;ail_1=22.29%;ail_5=0...</td>\n",
       "      <td>0</td>\n",
       "      <td>0.000000</td>\n",
       "      <td>NaN</td>\n",
       "      <td>524.004511</td>\n",
       "      <td>70</td>\n",
       "      <td>ELLIPSE</td>\n",
       "      <td>NaN</td>\n",
       "      <td>#d4ecff</td>\n",
       "      <td>50</td>\n",
       "    </tr>\n",
       "    <tr>\n",
       "      <th>202</th>\n",
       "      <td>DPINHLID_00131</td>\n",
       "      <td>16286</td>\n",
       "      <td>0.747575</td>\n",
       "      <td>0.113918</td>\n",
       "      <td>13349.425791</td>\n",
       "      <td>12175</td>\n",
       "      <td>pyrG=99.88%;pyrG_2=0.03%;pyrG_1=0.09%</td>\n",
       "      <td>5</td>\n",
       "      <td>0.000307</td>\n",
       "      <td>cas_type_I-E;Cas</td>\n",
       "      <td>1637.004237</td>\n",
       "      <td>115</td>\n",
       "      <td>ELLIPSE</td>\n",
       "      <td>CAS</td>\n",
       "      <td>#d4ecff</td>\n",
       "      <td>44</td>\n",
       "    </tr>\n",
       "    <tr>\n",
       "      <th>236</th>\n",
       "      <td>NGDGIGNN_01020</td>\n",
       "      <td>49</td>\n",
       "      <td>0.836735</td>\n",
       "      <td>0.000459</td>\n",
       "      <td>13075.560976</td>\n",
       "      <td>41</td>\n",
       "      <td>Hypothetical protein=100.0%</td>\n",
       "      <td>0</td>\n",
       "      <td>0.000000</td>\n",
       "      <td>NaN</td>\n",
       "      <td>464.000000</td>\n",
       "      <td>10</td>\n",
       "      <td>ELLIPSE</td>\n",
       "      <td>NaN</td>\n",
       "      <td>#d4ecff</td>\n",
       "      <td>50</td>\n",
       "    </tr>\n",
       "  </tbody>\n",
       "</table>\n",
       "</div>"
      ],
      "text/plain": [
       "                 id  members_count     icity  diversity_score  \\\n",
       "108  ONMBJOCA_01516          16235  0.613736         0.091410   \n",
       "178  AOHLAGHF_05336            229  0.908297         0.003215   \n",
       "193  DJBBIFAA_02730           9975  0.848421         0.006431   \n",
       "202  DPINHLID_00131          16286  0.747575         0.113918   \n",
       "236  NGDGIGNN_01020             49  0.836735         0.000459   \n",
       "\n",
       "     mean_distance_to_bait  members_close_to_baits  \\\n",
       "108           14790.134986                    9964   \n",
       "178           13584.307692                     208   \n",
       "193           13424.751861                    8463   \n",
       "202           13349.425791                   12175   \n",
       "236           13075.560976                      41   \n",
       "\n",
       "                                         members_names  is_bait_count  \\\n",
       "108              mazG=99.98%;mazG_2=0.01%;mazG_1=0.01%              4   \n",
       "178           ompX_2=28.82%;ompX_1=70.74%;ompX_3=0.44%              0   \n",
       "193  ail_3=43.19%;ail_2=29.77%;ail_1=22.29%;ail_5=0...              0   \n",
       "202              pyrG=99.88%;pyrG_2=0.03%;pyrG_1=0.09%              5   \n",
       "236                        Hypothetical protein=100.0%              0   \n",
       "\n",
       "     is_bait_perc         dfs_names  cds_lenght_mean  node_size node_shape  \\\n",
       "108      0.000246  cas_type_I-E;Cas       799.842747        115    ELLIPSE   \n",
       "178      0.000000               NaN       332.117904         10    ELLIPSE   \n",
       "193      0.000000               NaN       524.004511         70    ELLIPSE   \n",
       "202      0.000307  cas_type_I-E;Cas      1637.004237        115    ELLIPSE   \n",
       "236      0.000000               NaN       464.000000         10    ELLIPSE   \n",
       "\n",
       "    dfs_label node_color  border_size  \n",
       "108       CAS    #d4ecff           36  \n",
       "178       NaN    #d4ecff           54  \n",
       "193       NaN    #d4ecff           50  \n",
       "202       CAS    #d4ecff           44  \n",
       "236       NaN    #d4ecff           50  "
      ]
     },
     "execution_count": 8,
     "metadata": {},
     "output_type": "execute_result"
    }
   ],
   "source": [
    "nodes = (pd.read_csv(nodes_fname, sep='\\t')\n",
    "         .assign(node_color = lambda df: tuple(map(lambda x: default_color if x[0] == 'ELLIPSE' else x[1] , df[['node_shape', 'node_color']].values)))\n",
    "         .assign(node_size = lambda df: df.node_size.apply(lambda x: max(min_diameter_size, x)))\n",
    "        )\n",
    "# nodes = (nodes\n",
    "#          .query('(members_count >= 20 & icity >= 0.6 & cds_lenght_mean >= 300)')\n",
    "#          )\n",
    "nodes.head()"
   ]
  },
  {
   "cell_type": "code",
   "execution_count": 9,
   "id": "03ecec45-c73d-47be-ba57-f908837348bd",
   "metadata": {},
   "outputs": [
    {
     "data": {
      "text/html": [
       "<div>\n",
       "<style scoped>\n",
       "    .dataframe tbody tr th:only-of-type {\n",
       "        vertical-align: middle;\n",
       "    }\n",
       "\n",
       "    .dataframe tbody tr th {\n",
       "        vertical-align: top;\n",
       "    }\n",
       "\n",
       "    .dataframe thead th {\n",
       "        text-align: right;\n",
       "    }\n",
       "</style>\n",
       "<table border=\"1\" class=\"dataframe\">\n",
       "  <thead>\n",
       "    <tr style=\"text-align: right;\">\n",
       "      <th></th>\n",
       "      <th>source</th>\n",
       "      <th>target</th>\n",
       "      <th>weight</th>\n",
       "      <th>edge_size</th>\n",
       "    </tr>\n",
       "  </thead>\n",
       "  <tbody>\n",
       "    <tr>\n",
       "      <th>1</th>\n",
       "      <td>OBMGFKCN_01195</td>\n",
       "      <td>OEDBNFEP_02507</td>\n",
       "      <td>15104</td>\n",
       "      <td>59</td>\n",
       "    </tr>\n",
       "    <tr>\n",
       "      <th>2</th>\n",
       "      <td>CAADGEIO_02721</td>\n",
       "      <td>AHDJACDG_03207</td>\n",
       "      <td>15071</td>\n",
       "      <td>59</td>\n",
       "    </tr>\n",
       "    <tr>\n",
       "      <th>5</th>\n",
       "      <td>LNIMPGBG_00571</td>\n",
       "      <td>PBEJCPJL_03468</td>\n",
       "      <td>14847</td>\n",
       "      <td>58</td>\n",
       "    </tr>\n",
       "    <tr>\n",
       "      <th>8</th>\n",
       "      <td>AGMDNHOK_03377</td>\n",
       "      <td>PBEJCPJL_03468</td>\n",
       "      <td>14716</td>\n",
       "      <td>58</td>\n",
       "    </tr>\n",
       "    <tr>\n",
       "      <th>9</th>\n",
       "      <td>LCKPLMNB_00175</td>\n",
       "      <td>KOJBJDKH_04028</td>\n",
       "      <td>14440</td>\n",
       "      <td>57</td>\n",
       "    </tr>\n",
       "  </tbody>\n",
       "</table>\n",
       "</div>"
      ],
      "text/plain": [
       "           source          target  weight  edge_size\n",
       "1  OBMGFKCN_01195  OEDBNFEP_02507   15104         59\n",
       "2  CAADGEIO_02721  AHDJACDG_03207   15071         59\n",
       "5  LNIMPGBG_00571  PBEJCPJL_03468   14847         58\n",
       "8  AGMDNHOK_03377  PBEJCPJL_03468   14716         58\n",
       "9  LCKPLMNB_00175  KOJBJDKH_04028   14440         57"
      ]
     },
     "execution_count": 9,
     "metadata": {},
     "output_type": "execute_result"
    }
   ],
   "source": [
    "edges = pd.read_csv(edges_fname, sep='\\t')\n",
    "edges = edges.query('source in @nodes.id and target in @nodes.id and source != target')\n",
    "edges.head()"
   ]
  },
  {
   "cell_type": "markdown",
   "id": "2d8e549a-b990-414b-a106-9069ed52af6f",
   "metadata": {},
   "source": [
    "## Cytoscape\n",
    "\n",
    "Outside jupyter open the Cytoscape GUI client\n"
   ]
  },
  {
   "cell_type": "code",
   "execution_count": 10,
   "id": "3f82f1cf-fe16-4053-ac04-d94490d869c9",
   "metadata": {},
   "outputs": [],
   "source": [
    "# START CYTOSCAPE CLIENT OUTSIDE JUPYTER "
   ]
  },
  {
   "cell_type": "code",
   "execution_count": 11,
   "id": "fedf85f5-b39d-4ce0-91bf-ed11777103e5",
   "metadata": {},
   "outputs": [
    {
     "name": "stderr",
     "output_type": "stream",
     "text": [
      "UserWarning: Setuptools is replacing distutils.\n"
     ]
    },
    {
     "data": {
      "text/html": [
       "<pre style=\"white-space:pre;overflow-x:auto;line-height:normal;font-family:Menlo,'DejaVu Sans Mono',consolas,'Courier New',monospace\">Requirement already satisfied: py4cytoscape in /home/hugo/.local/lib/python3.10/site-packages (1.5.0)\n",
       "</pre>\n"
      ],
      "text/plain": [
       "Requirement already satisfied: py4cytoscape in /home/hugo/.local/lib/python3.10/site-packages (1.5.0)\n"
      ]
     },
     "metadata": {},
     "output_type": "display_data"
    },
    {
     "data": {
      "text/html": [
       "<pre style=\"white-space:pre;overflow-x:auto;line-height:normal;font-family:Menlo,'DejaVu Sans Mono',consolas,'Courier New',monospace\">Requirement already satisfied: python-igraph in /home/hugo/.local/lib/python3.10/site-packages (from py4cytoscape) (0.9.11)\n",
       "</pre>\n"
      ],
      "text/plain": [
       "Requirement already satisfied: python-igraph in /home/hugo/.local/lib/python3.10/site-packages (from py4cytoscape) (0.9.11)\n"
      ]
     },
     "metadata": {},
     "output_type": "display_data"
    },
    {
     "data": {
      "text/html": [
       "<pre style=\"white-space:pre;overflow-x:auto;line-height:normal;font-family:Menlo,'DejaVu Sans Mono',consolas,'Courier New',monospace\">Requirement already satisfied: chardet in /home/hugo/.local/lib/python3.10/site-packages (from py4cytoscape) (5.0.0)\n",
       "</pre>\n"
      ],
      "text/plain": [
       "Requirement already satisfied: chardet in /home/hugo/.local/lib/python3.10/site-packages (from py4cytoscape) (5.0.0)\n"
      ]
     },
     "metadata": {},
     "output_type": "display_data"
    },
    {
     "data": {
      "text/html": [
       "<pre style=\"white-space:pre;overflow-x:auto;line-height:normal;font-family:Menlo,'DejaVu Sans Mono',consolas,'Courier New',monospace\">Requirement already satisfied: pandas in /home/hugo/miniconda3/envs/cytoscape_env/lib/python3.10/site-packages (from py4cytoscape) (1.4.2)\n",
       "</pre>\n"
      ],
      "text/plain": [
       "Requirement already satisfied: pandas in /home/hugo/miniconda3/envs/cytoscape_env/lib/python3.10/site-packages (from py4cytoscape) (1.4.2)\n"
      ]
     },
     "metadata": {},
     "output_type": "display_data"
    },
    {
     "data": {
      "text/html": [
       "<pre style=\"white-space:pre;overflow-x:auto;line-height:normal;font-family:Menlo,'DejaVu Sans Mono',consolas,'Courier New',monospace\">Requirement already satisfied: decorator in /home/hugo/miniconda3/envs/cytoscape_env/lib/python3.10/site-packages (from py4cytoscape) (5.1.1)\n",
       "</pre>\n"
      ],
      "text/plain": [
       "Requirement already satisfied: decorator in /home/hugo/miniconda3/envs/cytoscape_env/lib/python3.10/site-packages (from py4cytoscape) (5.1.1)\n"
      ]
     },
     "metadata": {},
     "output_type": "display_data"
    },
    {
     "data": {
      "text/html": [
       "<pre style=\"white-space:pre;overflow-x:auto;line-height:normal;font-family:Menlo,'DejaVu Sans Mono',consolas,'Courier New',monospace\">Requirement already satisfied: requests in /home/hugo/miniconda3/envs/cytoscape_env/lib/python3.10/site-packages (from py4cytoscape) (2.28.1)\n",
       "</pre>\n"
      ],
      "text/plain": [
       "Requirement already satisfied: requests in /home/hugo/miniconda3/envs/cytoscape_env/lib/python3.10/site-packages (from py4cytoscape) (2.28.1)\n"
      ]
     },
     "metadata": {},
     "output_type": "display_data"
    },
    {
     "data": {
      "text/html": [
       "<pre style=\"white-space:pre;overflow-x:auto;line-height:normal;font-family:Menlo,'DejaVu Sans Mono',consolas,'Courier New',monospace\">Requirement already satisfied: colorbrewer in /home/hugo/.local/lib/python3.10/site-packages (from py4cytoscape) (0.2.0)\n",
       "</pre>\n"
      ],
      "text/plain": [
       "Requirement already satisfied: colorbrewer in /home/hugo/.local/lib/python3.10/site-packages (from py4cytoscape) (0.2.0)\n"
      ]
     },
     "metadata": {},
     "output_type": "display_data"
    },
    {
     "data": {
      "text/html": [
       "<pre style=\"white-space:pre;overflow-x:auto;line-height:normal;font-family:Menlo,'DejaVu Sans Mono',consolas,'Courier New',monospace\">Requirement already satisfied: networkx in /home/hugo/.local/lib/python3.10/site-packages (from py4cytoscape) (2.8.4)\n",
       "</pre>\n"
      ],
      "text/plain": [
       "Requirement already satisfied: networkx in /home/hugo/.local/lib/python3.10/site-packages (from py4cytoscape) (2.8.4)\n"
      ]
     },
     "metadata": {},
     "output_type": "display_data"
    },
    {
     "data": {
      "text/html": [
       "<pre style=\"white-space:pre;overflow-x:auto;line-height:normal;font-family:Menlo,'DejaVu Sans Mono',consolas,'Courier New',monospace\">Requirement already satisfied: six in /home/hugo/miniconda3/envs/cytoscape_env/lib/python3.10/site-packages (from colorbrewer-&gt;py4cytoscape) (1.16.0)\n",
       "</pre>\n"
      ],
      "text/plain": [
       "Requirement already satisfied: six in /home/hugo/miniconda3/envs/cytoscape_env/lib/python3.10/site-packages (from colorbrewer->py4cytoscape) (1.16.0)\n"
      ]
     },
     "metadata": {},
     "output_type": "display_data"
    },
    {
     "data": {
      "text/html": [
       "<pre style=\"white-space:pre;overflow-x:auto;line-height:normal;font-family:Menlo,'DejaVu Sans Mono',consolas,'Courier New',monospace\">Requirement already satisfied: pytz&gt;=2020.1 in /home/hugo/miniconda3/envs/cytoscape_env/lib/python3.10/site-packages (from pandas-&gt;py4cytoscape) (2022.1)\n",
       "</pre>\n"
      ],
      "text/plain": [
       "Requirement already satisfied: pytz>=2020.1 in /home/hugo/miniconda3/envs/cytoscape_env/lib/python3.10/site-packages (from pandas->py4cytoscape) (2022.1)\n"
      ]
     },
     "metadata": {},
     "output_type": "display_data"
    },
    {
     "data": {
      "text/html": [
       "<pre style=\"white-space:pre;overflow-x:auto;line-height:normal;font-family:Menlo,'DejaVu Sans Mono',consolas,'Courier New',monospace\">Requirement already satisfied: python-dateutil&gt;=2.8.1 in /home/hugo/miniconda3/envs/cytoscape_env/lib/python3.10/site-packages (from pandas-&gt;py4cytoscape) (2.8.2)\n",
       "</pre>\n"
      ],
      "text/plain": [
       "Requirement already satisfied: python-dateutil>=2.8.1 in /home/hugo/miniconda3/envs/cytoscape_env/lib/python3.10/site-packages (from pandas->py4cytoscape) (2.8.2)\n"
      ]
     },
     "metadata": {},
     "output_type": "display_data"
    },
    {
     "data": {
      "text/html": [
       "<pre style=\"white-space:pre;overflow-x:auto;line-height:normal;font-family:Menlo,'DejaVu Sans Mono',consolas,'Courier New',monospace\">Requirement already satisfied: numpy&gt;=1.21.0 in /home/hugo/miniconda3/envs/cytoscape_env/lib/python3.10/site-packages (from pandas-&gt;py4cytoscape) (1.23.0)\n",
       "</pre>\n"
      ],
      "text/plain": [
       "Requirement already satisfied: numpy>=1.21.0 in /home/hugo/miniconda3/envs/cytoscape_env/lib/python3.10/site-packages (from pandas->py4cytoscape) (1.23.0)\n"
      ]
     },
     "metadata": {},
     "output_type": "display_data"
    },
    {
     "data": {
      "text/html": [
       "<pre style=\"white-space:pre;overflow-x:auto;line-height:normal;font-family:Menlo,'DejaVu Sans Mono',consolas,'Courier New',monospace\">Requirement already satisfied: igraph==0.9.11 in /home/hugo/.local/lib/python3.10/site-packages (from python-igraph-&gt;py4cytoscape) (0.9.11)\n",
       "</pre>\n"
      ],
      "text/plain": [
       "Requirement already satisfied: igraph==0.9.11 in /home/hugo/.local/lib/python3.10/site-packages (from python-igraph->py4cytoscape) (0.9.11)\n"
      ]
     },
     "metadata": {},
     "output_type": "display_data"
    },
    {
     "data": {
      "text/html": [
       "<pre style=\"white-space:pre;overflow-x:auto;line-height:normal;font-family:Menlo,'DejaVu Sans Mono',consolas,'Courier New',monospace\">Requirement already satisfied: texttable&gt;=1.6.2 in /home/hugo/.local/lib/python3.10/site-packages (from igraph==0.9.11-&gt;python-igraph-&gt;py4cytoscape) (1.6.4)\n",
       "</pre>\n"
      ],
      "text/plain": [
       "Requirement already satisfied: texttable>=1.6.2 in /home/hugo/.local/lib/python3.10/site-packages (from igraph==0.9.11->python-igraph->py4cytoscape) (1.6.4)\n"
      ]
     },
     "metadata": {},
     "output_type": "display_data"
    },
    {
     "data": {
      "text/html": [
       "<pre style=\"white-space:pre;overflow-x:auto;line-height:normal;font-family:Menlo,'DejaVu Sans Mono',consolas,'Courier New',monospace\">Requirement already satisfied: idna&lt;4,&gt;=2.5 in /home/hugo/miniconda3/envs/cytoscape_env/lib/python3.10/site-packages (from requests-&gt;py4cytoscape) (3.3)\n",
       "</pre>\n"
      ],
      "text/plain": [
       "Requirement already satisfied: idna<4,>=2.5 in /home/hugo/miniconda3/envs/cytoscape_env/lib/python3.10/site-packages (from requests->py4cytoscape) (3.3)\n"
      ]
     },
     "metadata": {},
     "output_type": "display_data"
    },
    {
     "data": {
      "text/html": [
       "<pre style=\"white-space:pre;overflow-x:auto;line-height:normal;font-family:Menlo,'DejaVu Sans Mono',consolas,'Courier New',monospace\">Requirement already satisfied: certifi&gt;=2017.4.17 in /home/hugo/miniconda3/envs/cytoscape_env/lib/python3.10/site-packages (from requests-&gt;py4cytoscape) (2022.6.15)\n",
       "</pre>\n"
      ],
      "text/plain": [
       "Requirement already satisfied: certifi>=2017.4.17 in /home/hugo/miniconda3/envs/cytoscape_env/lib/python3.10/site-packages (from requests->py4cytoscape) (2022.6.15)\n"
      ]
     },
     "metadata": {},
     "output_type": "display_data"
    },
    {
     "data": {
      "text/html": [
       "<pre style=\"white-space:pre;overflow-x:auto;line-height:normal;font-family:Menlo,'DejaVu Sans Mono',consolas,'Courier New',monospace\">Requirement already satisfied: urllib3&lt;1.27,&gt;=1.21.1 in /home/hugo/miniconda3/envs/cytoscape_env/lib/python3.10/site-packages (from requests-&gt;py4cytoscape) (1.26.10)\n",
       "</pre>\n"
      ],
      "text/plain": [
       "Requirement already satisfied: urllib3<1.27,>=1.21.1 in /home/hugo/miniconda3/envs/cytoscape_env/lib/python3.10/site-packages (from requests->py4cytoscape) (1.26.10)\n"
      ]
     },
     "metadata": {},
     "output_type": "display_data"
    },
    {
     "data": {
      "text/html": [
       "<pre style=\"white-space:pre;overflow-x:auto;line-height:normal;font-family:Menlo,'DejaVu Sans Mono',consolas,'Courier New',monospace\">Requirement already satisfied: charset-normalizer&lt;3,&gt;=2 in /home/hugo/miniconda3/envs/cytoscape_env/lib/python3.10/site-packages (from requests-&gt;py4cytoscape) (2.1.0)\n",
       "</pre>\n"
      ],
      "text/plain": [
       "Requirement already satisfied: charset-normalizer<3,>=2 in /home/hugo/miniconda3/envs/cytoscape_env/lib/python3.10/site-packages (from requests->py4cytoscape) (2.1.0)\n"
      ]
     },
     "metadata": {},
     "output_type": "display_data"
    },
    {
     "name": "stdout",
     "output_type": "stream",
     "text": [
      "Loading Javascript client ... e939a006-b742-4b9d-acde-eac579a34e6b on https://jupyter-bridge.cytoscape.org\n",
      "You are connected to Cytoscape!\n"
     ]
    },
    {
     "data": {
      "text/plain": [
       "{'apiVersion': 'v1',\n",
       " 'cytoscapeVersion': '3.9.1',\n",
       " 'automationAPIVersion': '1.6.0',\n",
       " 'py4cytoscapeVersion': '1.5.0'}"
      ]
     },
     "execution_count": 11,
     "metadata": {},
     "output_type": "execute_result"
    }
   ],
   "source": [
    "# With the Cytoscape client open, run the following lines\n",
    "exec(requests.get(\"https://raw.githubusercontent.com/cytoscape/jupyter-bridge/master/client/p4c_init.py\").text)\n",
    "IPython.display.Javascript(_PY4CYTOSCAPE_BROWSER_CLIENT_JS) # Start browser client\n",
    "p4c.cytoscape_ping()\n",
    "p4c.cytoscape_version_info()"
   ]
  },
  {
   "cell_type": "markdown",
   "id": "3757879d-756d-4afa-9590-3fe8fe7d2af0",
   "metadata": {},
   "source": [
    "## Load the network into Cytoscape\n",
    "- If you dont have much RAM (less than 8 Gb), it is a good idea to close all other windows\n",
    "- The main network is big, so it takes a few minutes to load (~5 min with 6Gb RAM, and 4 CPUS) wait until the process finishes \n",
    "- Give a name to the project (collection) and to the main network (title)"
   ]
  },
  {
   "cell_type": "code",
   "execution_count": 12,
   "id": "f1c0beda-1248-478f-bd95-1eddb00fd019",
   "metadata": {},
   "outputs": [
    {
     "name": "stderr",
     "output_type": "stream",
     "text": [
      "\u001b[2m\u001b[36m(_apply_func pid=13760)\u001b[0m E0809 12:10:17.357342768   13837 chttp2_transport.cc:1103]   Received a GOAWAY with error code ENHANCE_YOUR_CALM and debug data equal to \"too_many_pings\"\n",
      "UserWarning: `DataFrame.to_dict` defaulting to pandas implementation.\n",
      "Please refer to https://modin.readthedocs.io/en/stable/supported_apis/defaulting_to_pandas.html for explanation.\n",
      "UserWarning: `DataFrame.to_dict` defaulting to pandas implementation.\n"
     ]
    },
    {
     "name": "stdout",
     "output_type": "stream",
     "text": [
      "Applying default style...\n",
      "Applying preferred layout\n"
     ]
    },
    {
     "data": {
      "text/plain": [
       "124"
      ]
     },
     "execution_count": 12,
     "metadata": {},
     "output_type": "execute_result"
    }
   ],
   "source": [
    "# Load nodes and edges\n",
    "p4c.create_network_from_data_frames(nodes, edges, title=\"Salmonella Bacterial Immunity\", collection=\"salmonella-immunity\")"
   ]
  },
  {
   "cell_type": "code",
   "execution_count": 62,
   "id": "336f5b9c-3651-4136-8163-4b9f787dfbf7",
   "metadata": {},
   "outputs": [
    {
     "data": {
      "image/png": "[encoded data removed]",
      "text/plain": [
       "<IPython.core.display.Image object>"
      ]
     },
     "execution_count": 62,
     "metadata": {},
     "output_type": "execute_result"
    }
   ],
   "source": [
    "# display main network\n",
    "p4c.notebook_export_show_image()"
   ]
  },
  {
   "cell_type": "markdown",
   "id": "27b40569-fc50-40ef-9c8f-464956f60246",
   "metadata": {},
   "source": [
    "## Network\n",
    "- Each node is a representative sequence of a homologous CDS cluster (min id:0.9 and cov:0.9)\n",
    "- Each representative sequence (node) has its prokka annotation, defense system prediction and the locus_tag of all cluster members. This information can be accessed through the node table or by clicking on the node in the Cytoscape Client.\n",
    "- Edges are representations of the a cluster relative topology. Replacing the locus_tags in the genomes with its the respective cluster name and extracting the position of each cluster in relation to its neighbors, it is possible to infer the topology relationships of the clusters. The edge_count parameter can be found in the edges table and displays the number of times a cluster appears next to another in a particular genome."
   ]
  },
  {
   "cell_type": "code",
   "execution_count": 42,
   "id": "883ea41e-3c09-4e89-a57e-12d2ab124006",
   "metadata": {},
   "outputs": [
    {
     "data": {
      "text/plain": [
       "''"
      ]
     },
     "execution_count": 42,
     "metadata": {},
     "output_type": "execute_result"
    }
   ],
   "source": [
    "# p4c.delete_visual_style('myStyle')\n",
    "# NODE_FILL_COLOR = p4c.map_visual_property('node fill color', 'name', 'd', nodes.id.values.tolist(), nodes.node_color.values.tolist())\n",
    "# p4c.update_style_mapping('myStyle', NODE_FILL_COLOR)"
   ]
  },
  {
   "cell_type": "code",
   "execution_count": 14,
   "id": "6618adde-d949-4061-839a-db16f125b774",
   "metadata": {},
   "outputs": [
    {
     "data": {
      "text/plain": [
       "''"
      ]
     },
     "execution_count": 14,
     "metadata": {},
     "output_type": "execute_result"
    }
   ],
   "source": [
    "# Create a style \n",
    "style_name = \"myStyle\"\n",
    "\n",
    "# Set some default values \n",
    "# defaults = {'NODE_SHAPE': \"ELLIPSE\", 'NODE_SIZE': 10, 'NODE_FILL_COLOR' : 'node_color'}\n",
    "defaults = {'NODE_SHAPE': \"ELLIPSE\", 'NODE_SIZE': 10, 'NODE_FILL_COLOR': default_color}\n",
    "\n",
    "# Show labels on the nodes\n",
    "node_labels = p4c.map_visual_property('node label', 'members_names', 'p') \n",
    "\n",
    "# Map node size to the count of members of a seed\n",
    "node_size_map  = p4c.map_visual_property('NODE_SIZE', 'node_size', 'p')\n",
    "node_shape_map = p4c.map_visual_property('NODE_SHAPE', 'node_shape', 'p')\n",
    "node_color_map  = p4c.map_visual_property('node fill color', 'name', 'd', nodes['id'].values.tolist(), nodes.node_color.values.tolist())\n",
    "edge_size_map  = p4c.map_visual_property('EDGE_WIDTH', 'edge_size', 'p')\n",
    "\n",
    "node_width = p4c.map_visual_property('NODE_BORDER_WIDTH', 'border_size', 'p')\n",
    "\n",
    "\n",
    "\n",
    "# Load style\n",
    "p4c.create_visual_style(style_name, defaults, [\n",
    "    node_size_map,\n",
    "    node_labels,\n",
    "    node_shape_map,\n",
    "    edge_size_map,\n",
    "    node_color_map,\n",
    "    node_width,\n",
    "])\n",
    "\n",
    "\n",
    "p4c.set_visual_style(style_name)\n",
    "\n",
    "p4c.set_node_border_color_mapping(**p4c.gen_node_color_map('diversity_score', p4c.palette_color_brewer_s_YlOrRd(), style_name=style_name))\n",
    "\n",
    "# p4c.notebook_export_show_image()"
   ]
  },
  {
   "cell_type": "code",
   "execution_count": 26,
   "id": "c26e5847-3ba8-40d8-8716-2ecb02a793b9",
   "metadata": {},
   "outputs": [
    {
     "data": {
      "text/plain": [
       "{'nodes': [431, 2039, 1385], 'edges': []}"
      ]
     },
     "execution_count": 26,
     "metadata": {},
     "output_type": "execute_result"
    }
   ],
   "source": [
    "wanted_nodes = [\n",
    "    'OBMGFKCN_01195',\n",
    "    'CAADGEIO_02721',\n",
    "    'LNIMPGBG_00571',\n",
    "]\n",
    "\n",
    "p4c.select_nodes(wanted_nodes, by_col='id')"
   ]
  }
 ],
 "metadata": {
  "kernelspec": {
   "display_name": "Python 3 (ipykernel)",
   "language": "python",
   "name": "python3"
  },
  "language_info": {
   "codemirror_mode": {
    "name": "ipython",
    "version": 3
   },
   "file_extension": ".py",
   "mimetype": "text/x-python",
   "name": "python",
   "nbconvert_exporter": "python",
   "pygments_lexer": "ipython3",
   "version": "3.10.5"
  }
 },
 "nbformat": 4,
 "nbformat_minor": 5
}
