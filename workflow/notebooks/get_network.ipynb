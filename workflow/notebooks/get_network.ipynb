{
 "cells": [
  {
   "cell_type": "code",
   "execution_count": 1,
   "id": "0fac22ce-be26-459c-9c62-45c4325da539",
   "metadata": {},
   "outputs": [],
   "source": [
    "from pathlib import Path\n",
    "import subprocess\n",
    "from collections import namedtuple\n",
    "\n",
    "# external modules \n",
    "import requests\n",
    "import pandas as pd\n",
    "from Bio import SeqIO"
   ]
  },
  {
   "cell_type": "code",
   "execution_count": 48,
   "id": "a1e3580b-f321-4d99-8b93-84a24c80b0a6",
   "metadata": {},
   "outputs": [],
   "source": [
    "def cassettes_headers_to_df(multifasta_proteins):\n",
    "    cmd = ['zgrep', '-Po', '(?<=^\\>).+', multifasta_proteins]\n",
    "    columns = ['contigs', 'cassettes', 'locus_tags', 'headers']\n",
    "    data = []\n",
    "    for header in subprocess.run(cmd, check=True, stdout=subprocess.PIPE).stdout.decode('UTF-8').splitlines():\n",
    "        rows = header.split(':')\n",
    "        assert len(rows) == 3, 'Header {} is invalid !'.format(header)\n",
    "        rows.append(header)\n",
    "        data.append(rows)\n",
    "        \n",
    "    df = pd.DataFrame(data=data, columns=columns) \\\n",
    "            .assign(genome_ids = lambda x: x['contigs'].str.split(':') \\\n",
    "                .apply(lambda x: '_'.join(x[0].split('_')[1:-1])))\n",
    "    return df\n",
    "\n",
    "\n",
    "                \n",
    "def get_edges(topology: list, drop_duplicates=True):\n",
    "    edges = []\n",
    "    for indx, cluster_id in enumerate(topology):\n",
    "        if indx == 0:\n",
    "            edges.append((cluster_id, topology[indx+1]))\n",
    "        elif indx == len(topology) - 1:\n",
    "            edges.append((cluster_id, topology[indx-1]))\n",
    "        else:\n",
    "            edges.append((cluster_id, topology[indx-1]))\n",
    "            edges.append((cluster_id, topology[indx+1]))\n",
    "    if not drop_duplicates:\n",
    "        return edges\n",
    "    \n",
    "    strict_edges = []\n",
    "    for edge in edges:\n",
    "        if not ( edge in strict_edges or edge[::-1] in strict_edges ):\n",
    "            strict_edges.append(edge)\n",
    "    return strict_edges\n",
    "\n",
    "def get_wanted_locus_tags_from_gbk(gbk_path: str, wanted_locus_tags: list):\n",
    "    with open(gbk_path) as f:\n",
    "        features = []\n",
    "        for record in SeqIO.parse(gbk_path, 'genbank'):\n",
    "            for feature in filter(lambda fet: fet.qualifiers.get('locus_tag', [None])[0] in wanted_locus_tags, record.features):\n",
    "                features.append((feature.qualifiers.get('locus_tag', [None])[0], feature))\n",
    "        return pd.DataFrame(data=features, columns=['locus_tags', 'features'])\n",
    "    \n",
    "def list_gbk_files(annotation_dir: str) -> dict:\n",
    "    cmd = [\n",
    "        'find',\n",
    "        annotation_dir,\n",
    "        '-type', 'f',\n",
    "        '-name', '*.gbk'\n",
    "    ]\n",
    "    files = {}\n",
    "    for file in subprocess.run(cmd, check=True, stdout=subprocess.PIPE).stdout.decode('UTF-8').splitlines():\n",
    "        file = Path(file)\n",
    "        genome_id = file.stem.replace('_out', '')\n",
    "        genome_path = str(file.absolute())\n",
    "        assert not files.get(genome_id), 'Repeated ids: {}'.format(genome_id)\n",
    "        files[genome_id] = genome_path\n",
    "        \n",
    "    return files\n",
    "\n",
    "def get_feature_df(genome_filters: list, annotation_dir: str):\n",
    "    \"\"\"genome_filter = { genome_id : locus_tags }\"\"\"\n",
    "    genome_paths: dict = list_gbk_files(annotation_dir)\n",
    "    \n",
    "    features_df = pd.DataFrame()\n",
    "    for genome_id, locus_tags in genome_filters.items():\n",
    "        df = get_wanted_locus_tags_from_gbk(gbk_path=genome_paths[genome_id], wanted_locus_tags=locus_tags)\n",
    "        if features_df.empty:\n",
    "            features_df = df\n",
    "            continue\n",
    "        features_df = pd.concat([features_df, df])\n",
    "        \n",
    "    return features_df.reset_index(drop=True)\n",
    "        \n",
    "            \n",
    "            \n",
    "def get_feature_string(feature):\n",
    "    get_qualifier = lambda query: feature.qualifiers.get(query, ['NA'])[0]\n",
    "    fields = ('gene', 'locus_tag', 'product', 'translation')\n",
    "    return ';'.join(list(map(lambda field: '='.join((field, get_qualifier(field))) , fields)))\n",
    "\n",
    "\n",
    "def read_and_merge_predictions(defense_system_prediction_dir: str):\n",
    "    cmd = [\n",
    "        'find',\n",
    "        defense_system_prediction_dir,\n",
    "        '-type', 'f',\n",
    "        '-name', '*merged_defense_systems_prediction.csv',\n",
    "        '!', '-empty'\n",
    "    ]\n",
    "    assert Path(defense_system_prediction_dir).exists()\n",
    "    prediction_files: list = subprocess.run(cmd, check=True, stdout=subprocess.PIPE).stdout.decode('UTF-8').splitlines()\n",
    "    assert prediction_files, 'No predict file found !'\n",
    "    read_dataframe = lambda file_path: pd.read_csv(file_path, sep=',')\n",
    "    \n",
    "    return pd.concat(map(read_dataframe, prediction_files)).reset_index(drop=True)\n",
    "\n"
   ]
  },
  {
   "cell_type": "code",
   "execution_count": 34,
   "id": "612dd80b-a9e9-4c5e-929a-be1e653fc4f7",
   "metadata": {},
   "outputs": [],
   "source": [
    "multifasta_proteins = '/home/hugo/projects/salmonella-bacterial-immunity/results/cassettes/clusters/merged_cassette_proteins.faa.gz'\n",
    "clusters = '/home/hugo/projects/salmonella-bacterial-immunity/results/cassettes/clusters/mmseqs2_cluster.tsv'\n",
    "annotation_dir = '/home/hugo/projects/salmonella-bacterial-immunity/results/Prokka/'\n",
    "defense_system_prediction_dir = '/home/hugo/projects/salmonella-bacterial-immunity/results/cassettes/extracted/'"
   ]
  },
  {
   "cell_type": "markdown",
   "id": "f796fa70-d4dc-4427-be27-62693b1c4502",
   "metadata": {},
   "source": [
    "## NEW"
   ]
  },
  {
   "cell_type": "code",
   "execution_count": 35,
   "id": "4d8bda68-e040-40f6-84da-855674d4f11e",
   "metadata": {},
   "outputs": [
    {
     "data": {
      "text/html": [
       "<div>\n",
       "<style scoped>\n",
       "    .dataframe tbody tr th:only-of-type {\n",
       "        vertical-align: middle;\n",
       "    }\n",
       "\n",
       "    .dataframe tbody tr th {\n",
       "        vertical-align: top;\n",
       "    }\n",
       "\n",
       "    .dataframe thead th {\n",
       "        text-align: right;\n",
       "    }\n",
       "</style>\n",
       "<table border=\"1\" class=\"dataframe\">\n",
       "  <thead>\n",
       "    <tr style=\"text-align: right;\">\n",
       "      <th></th>\n",
       "      <th>members</th>\n",
       "      <th>members_count</th>\n",
       "      <th>is_GOI</th>\n",
       "    </tr>\n",
       "    <tr>\n",
       "      <th>representatives</th>\n",
       "      <th></th>\n",
       "      <th></th>\n",
       "      <th></th>\n",
       "    </tr>\n",
       "  </thead>\n",
       "  <tbody>\n",
       "    <tr>\n",
       "      <th>Contig_1395103.4_47:Cassette_1:GOI_True:KDHGNBDG_03652</th>\n",
       "      <td>[Contig_1395103.4_47:Cassette_1:GOI_True:KDHGN...</td>\n",
       "      <td>12</td>\n",
       "      <td>True</td>\n",
       "    </tr>\n",
       "    <tr>\n",
       "      <th>Contig_936157.3_6:Cassette_1:GOI_True:IOMDNFNB_00334</th>\n",
       "      <td>[Contig_936157.3_6:Cassette_1:GOI_True:IOMDNFN...</td>\n",
       "      <td>10</td>\n",
       "      <td>True</td>\n",
       "    </tr>\n",
       "    <tr>\n",
       "      <th>Contig_936157.3_23:Cassette_1:GOI_True:IOMDNFNB_01072</th>\n",
       "      <td>[Contig_936157.3_23:Cassette_1:GOI_True:IOMDNF...</td>\n",
       "      <td>10</td>\n",
       "      <td>True</td>\n",
       "    </tr>\n",
       "    <tr>\n",
       "      <th>Contig_936157.3_6:Cassette_1:GOI_True:IOMDNFNB_00333</th>\n",
       "      <td>[Contig_936157.3_6:Cassette_1:GOI_True:IOMDNFN...</td>\n",
       "      <td>10</td>\n",
       "      <td>True</td>\n",
       "    </tr>\n",
       "    <tr>\n",
       "      <th>Contig_590.17131_2:Cassette_2:GOI_True:HOHECEAN_01191</th>\n",
       "      <td>[Contig_590.17131_2:Cassette_2:GOI_True:HOHECE...</td>\n",
       "      <td>8</td>\n",
       "      <td>True</td>\n",
       "    </tr>\n",
       "  </tbody>\n",
       "</table>\n",
       "</div>"
      ],
      "text/plain": [
       "                                                                                              members  \\\n",
       "representatives                                                                                         \n",
       "Contig_1395103.4_47:Cassette_1:GOI_True:KDHGNBD...  [Contig_1395103.4_47:Cassette_1:GOI_True:KDHGN...   \n",
       "Contig_936157.3_6:Cassette_1:GOI_True:IOMDNFNB_...  [Contig_936157.3_6:Cassette_1:GOI_True:IOMDNFN...   \n",
       "Contig_936157.3_23:Cassette_1:GOI_True:IOMDNFNB...  [Contig_936157.3_23:Cassette_1:GOI_True:IOMDNF...   \n",
       "Contig_936157.3_6:Cassette_1:GOI_True:IOMDNFNB_...  [Contig_936157.3_6:Cassette_1:GOI_True:IOMDNFN...   \n",
       "Contig_590.17131_2:Cassette_2:GOI_True:HOHECEAN...  [Contig_590.17131_2:Cassette_2:GOI_True:HOHECE...   \n",
       "\n",
       "                                                    members_count  is_GOI  \n",
       "representatives                                                            \n",
       "Contig_1395103.4_47:Cassette_1:GOI_True:KDHGNBD...             12    True  \n",
       "Contig_936157.3_6:Cassette_1:GOI_True:IOMDNFNB_...             10    True  \n",
       "Contig_936157.3_23:Cassette_1:GOI_True:IOMDNFNB...             10    True  \n",
       "Contig_936157.3_6:Cassette_1:GOI_True:IOMDNFNB_...             10    True  \n",
       "Contig_590.17131_2:Cassette_2:GOI_True:HOHECEAN...              8    True  "
      ]
     },
     "execution_count": 35,
     "metadata": {},
     "output_type": "execute_result"
    }
   ],
   "source": [
    "clusters_df = pd.DataFrame()\n",
    "for rep, df in pd.read_csv(clusters, sep='\\t', header=None).rename(columns={0:'representatives', 1:'members'}).groupby('representatives'):\n",
    "    # is gene of interest \n",
    "    is_GOI = any(df.members.apply(lambda header: 'GOI_True' in header))\n",
    "    members =  df.members.values\n",
    "    df = pd.DataFrame(data=[(rep, members, len(members), is_GOI)], columns=[*df.columns, 'members_count', 'is_GOI']).set_index('representatives')\n",
    "    if clusters_df.empty:\n",
    "        clusters_df = df\n",
    "        continue\n",
    "    clusters_df = pd.concat([clusters_df, df])\n",
    "\n",
    "clusters_df.sort_values(['members_count'], ascending=False).query('is_GOI').head()"
   ]
  },
  {
   "cell_type": "code",
   "execution_count": 36,
   "id": "5b0c38a5-5e9e-42cd-b9af-f83b3de8ed75",
   "metadata": {},
   "outputs": [],
   "source": [
    "genome_filters: dict = clusters_df.index.to_series().str.split(':', expand=True).iloc[:,[0,-1]] \\\n",
    "    .rename(columns={0: 'genome_id', 3: 'locus_tags'}) \\\n",
    "    .assign( genome_id = lambda df: df.genome_id.str.replace('Contig_', '').apply(lambda g_id: '_'.join(g_id.split('_')[:-1]) ) ) \\\n",
    "    .groupby('genome_id') \\\n",
    "    .apply(lambda df: pd.DataFrame(data=[[df.iloc[0,0], set(df.locus_tags.values.tolist())]], columns=['genome_id', 'locus_tags'] )) \\\n",
    "    .set_index('genome_id', drop=True).locus_tags.to_dict()"
   ]
  },
  {
   "cell_type": "code",
   "execution_count": 37,
   "id": "aa089c4d-e83c-444e-a07f-7bcc543c0ef2",
   "metadata": {},
   "outputs": [],
   "source": [
    "features = get_feature_df(genome_filters=genome_filters, annotation_dir=annotation_dir) \\\n",
    "            .assign(features = lambda df: df.features.apply(lambda fet: get_feature_string(fet))) \\\n",
    "            .set_index('locus_tags', drop=True).features.to_dict()"
   ]
  },
  {
   "cell_type": "code",
   "execution_count": 38,
   "id": "351115bd-9024-4769-9da3-52ccac1a4708",
   "metadata": {},
   "outputs": [],
   "source": [
    "clusters_df = clusters_df \\\n",
    "    .assign(features = lambda df: df.index.to_series().str.split(':', expand=True).iloc[:,-1].apply(lambda locus_tag: features.get(locus_tag, 'NA')) ) \\\n",
    "    .assign(\n",
    "        cluster_ids = lambda df: df.index.to_series().str.split(':', expand=True).iloc[:,-1] + \n",
    "        '_' + \n",
    "        df.features.str.split(';', expand=True).iloc[:,0].str.replace('gene=', '') \n",
    "    )"
   ]
  },
  {
   "cell_type": "code",
   "execution_count": 39,
   "id": "3bc96948-42e0-442c-9332-03fdbef08d85",
   "metadata": {},
   "outputs": [
    {
     "data": {
      "text/html": [
       "<div>\n",
       "<style scoped>\n",
       "    .dataframe tbody tr th:only-of-type {\n",
       "        vertical-align: middle;\n",
       "    }\n",
       "\n",
       "    .dataframe tbody tr th {\n",
       "        vertical-align: top;\n",
       "    }\n",
       "\n",
       "    .dataframe thead th {\n",
       "        text-align: right;\n",
       "    }\n",
       "</style>\n",
       "<table border=\"1\" class=\"dataframe\">\n",
       "  <thead>\n",
       "    <tr style=\"text-align: right;\">\n",
       "      <th></th>\n",
       "      <th>members</th>\n",
       "      <th>members_count</th>\n",
       "      <th>is_GOI</th>\n",
       "      <th>features</th>\n",
       "      <th>cluster_ids</th>\n",
       "    </tr>\n",
       "    <tr>\n",
       "      <th>representatives</th>\n",
       "      <th></th>\n",
       "      <th></th>\n",
       "      <th></th>\n",
       "      <th></th>\n",
       "      <th></th>\n",
       "    </tr>\n",
       "  </thead>\n",
       "  <tbody>\n",
       "    <tr>\n",
       "      <th>Contig_1395103.4_28:Cassette_1:GOI_False:KDHGNBDG_02934</th>\n",
       "      <td>[Contig_1395103.4_28:Cassette_1:GOI_False:KDHG...</td>\n",
       "      <td>1</td>\n",
       "      <td>False</td>\n",
       "      <td>gene=prpD;locus_tag=KDHGNBDG_02934;product=2-m...</td>\n",
       "      <td>KDHGNBDG_02934_prpD</td>\n",
       "    </tr>\n",
       "    <tr>\n",
       "      <th>Contig_1395103.4_28:Cassette_1:GOI_False:KDHGNBDG_02935</th>\n",
       "      <td>[Contig_1395103.4_28:Cassette_1:GOI_False:KDHG...</td>\n",
       "      <td>1</td>\n",
       "      <td>False</td>\n",
       "      <td>gene=prpC;locus_tag=KDHGNBDG_02935;product=2-m...</td>\n",
       "      <td>KDHGNBDG_02935_prpC</td>\n",
       "    </tr>\n",
       "    <tr>\n",
       "      <th>Contig_1395103.4_28:Cassette_1:GOI_False:KDHGNBDG_02947</th>\n",
       "      <td>[Contig_1395103.4_28:Cassette_1:GOI_False:KDHG...</td>\n",
       "      <td>1</td>\n",
       "      <td>False</td>\n",
       "      <td>gene=NA;locus_tag=KDHGNBDG_02947;product=hypot...</td>\n",
       "      <td>KDHGNBDG_02947_NA</td>\n",
       "    </tr>\n",
       "    <tr>\n",
       "      <th>Contig_1395103.4_28:Cassette_1:GOI_False:KDHGNBDG_02948</th>\n",
       "      <td>[Contig_1395103.4_28:Cassette_1:GOI_False:KDHG...</td>\n",
       "      <td>1</td>\n",
       "      <td>False</td>\n",
       "      <td>gene=NA;locus_tag=KDHGNBDG_02948;product=hypot...</td>\n",
       "      <td>KDHGNBDG_02948_NA</td>\n",
       "    </tr>\n",
       "    <tr>\n",
       "      <th>Contig_1395103.4_28:Cassette_1:GOI_False:KDHGNBDG_02949</th>\n",
       "      <td>[Contig_1395103.4_28:Cassette_1:GOI_False:KDHG...</td>\n",
       "      <td>1</td>\n",
       "      <td>False</td>\n",
       "      <td>gene=NA;locus_tag=KDHGNBDG_02949;product=Elect...</td>\n",
       "      <td>KDHGNBDG_02949_NA</td>\n",
       "    </tr>\n",
       "  </tbody>\n",
       "</table>\n",
       "</div>"
      ],
      "text/plain": [
       "                                                                                              members  \\\n",
       "representatives                                                                                         \n",
       "Contig_1395103.4_28:Cassette_1:GOI_False:KDHGNB...  [Contig_1395103.4_28:Cassette_1:GOI_False:KDHG...   \n",
       "Contig_1395103.4_28:Cassette_1:GOI_False:KDHGNB...  [Contig_1395103.4_28:Cassette_1:GOI_False:KDHG...   \n",
       "Contig_1395103.4_28:Cassette_1:GOI_False:KDHGNB...  [Contig_1395103.4_28:Cassette_1:GOI_False:KDHG...   \n",
       "Contig_1395103.4_28:Cassette_1:GOI_False:KDHGNB...  [Contig_1395103.4_28:Cassette_1:GOI_False:KDHG...   \n",
       "Contig_1395103.4_28:Cassette_1:GOI_False:KDHGNB...  [Contig_1395103.4_28:Cassette_1:GOI_False:KDHG...   \n",
       "\n",
       "                                                    members_count  is_GOI  \\\n",
       "representatives                                                             \n",
       "Contig_1395103.4_28:Cassette_1:GOI_False:KDHGNB...              1   False   \n",
       "Contig_1395103.4_28:Cassette_1:GOI_False:KDHGNB...              1   False   \n",
       "Contig_1395103.4_28:Cassette_1:GOI_False:KDHGNB...              1   False   \n",
       "Contig_1395103.4_28:Cassette_1:GOI_False:KDHGNB...              1   False   \n",
       "Contig_1395103.4_28:Cassette_1:GOI_False:KDHGNB...              1   False   \n",
       "\n",
       "                                                                                             features  \\\n",
       "representatives                                                                                         \n",
       "Contig_1395103.4_28:Cassette_1:GOI_False:KDHGNB...  gene=prpD;locus_tag=KDHGNBDG_02934;product=2-m...   \n",
       "Contig_1395103.4_28:Cassette_1:GOI_False:KDHGNB...  gene=prpC;locus_tag=KDHGNBDG_02935;product=2-m...   \n",
       "Contig_1395103.4_28:Cassette_1:GOI_False:KDHGNB...  gene=NA;locus_tag=KDHGNBDG_02947;product=hypot...   \n",
       "Contig_1395103.4_28:Cassette_1:GOI_False:KDHGNB...  gene=NA;locus_tag=KDHGNBDG_02948;product=hypot...   \n",
       "Contig_1395103.4_28:Cassette_1:GOI_False:KDHGNB...  gene=NA;locus_tag=KDHGNBDG_02949;product=Elect...   \n",
       "\n",
       "                                                            cluster_ids  \n",
       "representatives                                                          \n",
       "Contig_1395103.4_28:Cassette_1:GOI_False:KDHGNB...  KDHGNBDG_02934_prpD  \n",
       "Contig_1395103.4_28:Cassette_1:GOI_False:KDHGNB...  KDHGNBDG_02935_prpC  \n",
       "Contig_1395103.4_28:Cassette_1:GOI_False:KDHGNB...    KDHGNBDG_02947_NA  \n",
       "Contig_1395103.4_28:Cassette_1:GOI_False:KDHGNB...    KDHGNBDG_02948_NA  \n",
       "Contig_1395103.4_28:Cassette_1:GOI_False:KDHGNB...    KDHGNBDG_02949_NA  "
      ]
     },
     "execution_count": 39,
     "metadata": {},
     "output_type": "execute_result"
    }
   ],
   "source": [
    "clusters_df.head()"
   ]
  },
  {
   "cell_type": "code",
   "execution_count": 40,
   "id": "968f228c-106b-4c00-ac1b-a06eb734e076",
   "metadata": {},
   "outputs": [
    {
     "data": {
      "text/html": [
       "<div>\n",
       "<style scoped>\n",
       "    .dataframe tbody tr th:only-of-type {\n",
       "        vertical-align: middle;\n",
       "    }\n",
       "\n",
       "    .dataframe tbody tr th {\n",
       "        vertical-align: top;\n",
       "    }\n",
       "\n",
       "    .dataframe thead th {\n",
       "        text-align: right;\n",
       "    }\n",
       "</style>\n",
       "<table border=\"1\" class=\"dataframe\">\n",
       "  <thead>\n",
       "    <tr style=\"text-align: right;\">\n",
       "      <th></th>\n",
       "      <th>id</th>\n",
       "      <th>members_count</th>\n",
       "      <th>is_GOI</th>\n",
       "      <th>features</th>\n",
       "      <th>group</th>\n",
       "    </tr>\n",
       "  </thead>\n",
       "  <tbody>\n",
       "    <tr>\n",
       "      <th>33</th>\n",
       "      <td>KDHGNBDG_03651_ecoRIIR</td>\n",
       "      <td>2</td>\n",
       "      <td>True</td>\n",
       "      <td>gene=ecoRIIR;locus_tag=KDHGNBDG_03651;product=...</td>\n",
       "      <td>GOI</td>\n",
       "    </tr>\n",
       "    <tr>\n",
       "      <th>34</th>\n",
       "      <td>KDHGNBDG_03652_dcm_2</td>\n",
       "      <td>12</td>\n",
       "      <td>True</td>\n",
       "      <td>gene=dcm_2;locus_tag=KDHGNBDG_03652;product=DN...</td>\n",
       "      <td>GOI</td>\n",
       "    </tr>\n",
       "    <tr>\n",
       "      <th>35</th>\n",
       "      <td>KDHGNBDG_03655_NA</td>\n",
       "      <td>1</td>\n",
       "      <td>True</td>\n",
       "      <td>gene=NA;locus_tag=KDHGNBDG_03655;product=hypot...</td>\n",
       "      <td>GOI</td>\n",
       "    </tr>\n",
       "    <tr>\n",
       "      <th>54</th>\n",
       "      <td>KDHGNBDG_00483_rep_2</td>\n",
       "      <td>1</td>\n",
       "      <td>True</td>\n",
       "      <td>gene=rep_2;locus_tag=KDHGNBDG_00483;product=AT...</td>\n",
       "      <td>GOI</td>\n",
       "    </tr>\n",
       "    <tr>\n",
       "      <th>55</th>\n",
       "      <td>KDHGNBDG_00484_NA</td>\n",
       "      <td>1</td>\n",
       "      <td>True</td>\n",
       "      <td>gene=NA;locus_tag=KDHGNBDG_00484;product=hypot...</td>\n",
       "      <td>GOI</td>\n",
       "    </tr>\n",
       "  </tbody>\n",
       "</table>\n",
       "</div>"
      ],
      "text/plain": [
       "                        id  members_count  is_GOI  \\\n",
       "33  KDHGNBDG_03651_ecoRIIR              2    True   \n",
       "34    KDHGNBDG_03652_dcm_2             12    True   \n",
       "35       KDHGNBDG_03655_NA              1    True   \n",
       "54    KDHGNBDG_00483_rep_2              1    True   \n",
       "55       KDHGNBDG_00484_NA              1    True   \n",
       "\n",
       "                                             features group  \n",
       "33  gene=ecoRIIR;locus_tag=KDHGNBDG_03651;product=...   GOI  \n",
       "34  gene=dcm_2;locus_tag=KDHGNBDG_03652;product=DN...   GOI  \n",
       "35  gene=NA;locus_tag=KDHGNBDG_03655;product=hypot...   GOI  \n",
       "54  gene=rep_2;locus_tag=KDHGNBDG_00483;product=AT...   GOI  \n",
       "55  gene=NA;locus_tag=KDHGNBDG_00484;product=hypot...   GOI  "
      ]
     },
     "execution_count": 40,
     "metadata": {},
     "output_type": "execute_result"
    }
   ],
   "source": [
    "nodes = clusters_df.loc[:, ['cluster_ids', 'members_count', 'is_GOI', 'features']] \\\n",
    "    .reset_index(drop=True) \\\n",
    "    .assign(group = lambda df: df.is_GOI.apply(lambda x: 'GOI' if x else 'NA')) \\\n",
    "    .rename(columns={'cluster_ids' : 'id'})\n",
    "\n",
    "nodes.query('group != \"NA\"').head()"
   ]
  },
  {
   "cell_type": "code",
   "execution_count": 41,
   "id": "145ec04f-d0c3-4da2-a258-c9e1804908ec",
   "metadata": {},
   "outputs": [],
   "source": [
    "import itertools\n",
    "\n",
    "ids_df = clusters_df.loc[:, ['cluster_ids', 'members']].reset_index(drop=True).explode('members') \\\n",
    "    .assign(locus_tags =  lambda df: df.members.str.split(':', expand=True).iloc[:,[-1]].values ).drop(['members'], axis=1)\n",
    "\n",
    "cassettes_gdf = pd.Series(data=list(itertools.chain.from_iterable(clusters_df.members)), name='members') \\\n",
    "    .str.split(':', expand=True) \\\n",
    "    .rename(columns=dict(zip(range(4), ['contigs', 'cassettes', 'GOI', 'locus_tags'] ))) \\\n",
    "    .merge(ids_df, on='locus_tags', how='left').groupby(['contigs', 'cassettes'])    "
   ]
  },
  {
   "cell_type": "code",
   "execution_count": 42,
   "id": "d25f7037-40c5-4129-88de-6d9e816a73a5",
   "metadata": {},
   "outputs": [
    {
     "data": {
      "text/html": [
       "<div>\n",
       "<style scoped>\n",
       "    .dataframe tbody tr th:only-of-type {\n",
       "        vertical-align: middle;\n",
       "    }\n",
       "\n",
       "    .dataframe tbody tr th {\n",
       "        vertical-align: top;\n",
       "    }\n",
       "\n",
       "    .dataframe thead th {\n",
       "        text-align: right;\n",
       "    }\n",
       "</style>\n",
       "<table border=\"1\" class=\"dataframe\">\n",
       "  <thead>\n",
       "    <tr style=\"text-align: right;\">\n",
       "      <th></th>\n",
       "      <th>source</th>\n",
       "      <th>target</th>\n",
       "      <th>edge_count</th>\n",
       "    </tr>\n",
       "  </thead>\n",
       "  <tbody>\n",
       "    <tr>\n",
       "      <th>0</th>\n",
       "      <td>IOMDNFNB_00343_prpR</td>\n",
       "      <td>IOMDNFNB_00344_prpB</td>\n",
       "      <td>10</td>\n",
       "    </tr>\n",
       "    <tr>\n",
       "      <th>1</th>\n",
       "      <td>IOMDNFNB_00332_yjhB_1</td>\n",
       "      <td>IOMDNFNB_00333_NA</td>\n",
       "      <td>10</td>\n",
       "    </tr>\n",
       "    <tr>\n",
       "      <th>2</th>\n",
       "      <td>IOMDNFNB_01075_NA</td>\n",
       "      <td>IOMDNFNB_01076_dgcQ</td>\n",
       "      <td>10</td>\n",
       "    </tr>\n",
       "    <tr>\n",
       "      <th>3</th>\n",
       "      <td>IOMDNFNB_01076_dgcQ</td>\n",
       "      <td>IOMDNFNB_01077_yedP</td>\n",
       "      <td>10</td>\n",
       "    </tr>\n",
       "    <tr>\n",
       "      <th>4</th>\n",
       "      <td>IOMDNFNB_01072_vsr</td>\n",
       "      <td>IOMDNFNB_01073_yedA</td>\n",
       "      <td>10</td>\n",
       "    </tr>\n",
       "  </tbody>\n",
       "</table>\n",
       "</div>"
      ],
      "text/plain": [
       "                  source               target  edge_count\n",
       "0    IOMDNFNB_00343_prpR  IOMDNFNB_00344_prpB          10\n",
       "1  IOMDNFNB_00332_yjhB_1    IOMDNFNB_00333_NA          10\n",
       "2      IOMDNFNB_01075_NA  IOMDNFNB_01076_dgcQ          10\n",
       "3    IOMDNFNB_01076_dgcQ  IOMDNFNB_01077_yedP          10\n",
       "4     IOMDNFNB_01072_vsr  IOMDNFNB_01073_yedA          10"
      ]
     },
     "execution_count": 42,
     "metadata": {},
     "output_type": "execute_result"
    }
   ],
   "source": [
    "\n",
    "edges = pd.DataFrame()\n",
    "\n",
    "for cassette, df in cassettes_gdf:\n",
    "    # Making shore these locus_tags are sorted !!!!!!\n",
    "    df = df.sort_values('locus_tags', key = lambda locus_tags: locus_tags.apply(lambda locus_tag: int(locus_tag.split('_')[-1]) ))\n",
    "    cassette_edges = pd.DataFrame(data=get_edges(df.cluster_ids.values), columns=['source', 'target'])\n",
    "    if edges.empty:\n",
    "        edges = cassette_edges\n",
    "        continue\n",
    "    edges = pd.concat([edges, cassette_edges])\n",
    "    \n",
    "edges = edges.reset_index(drop=True)\n",
    "\n",
    "\n",
    "# Merge equal edges and count: [(A -> B), (B -> A), (A -> B), (A -> B), (B -> A), (A -> B)] = (A -> B) 6\n",
    "edges = edges.assign(sorted_edges = lambda df: list(map(\n",
    "    lambda tups: sorted(set(itertools.chain.from_iterable(tups))),\n",
    "    tuple(zip(df.iloc[:,[0,1]].values.tolist(), df.iloc[:,[1,0]].values.tolist())))\n",
    "                                           )) \\\n",
    "    .assign(source = lambda df: df.sorted_edges.apply(lambda x: x[0])) \\\n",
    "    .assign(target = lambda df: df.sorted_edges.apply(lambda x: x[1])) \\\n",
    "    .drop('sorted_edges', axis=1) \\\n",
    "    .groupby(['source', 'target'], as_index=False).size() \\\n",
    "    .sort_values('size', ascending=False) \\\n",
    "    .rename(columns={'size' : 'edge_count'}).reset_index(drop=True)\n",
    "edges.head()"
   ]
  },
  {
   "cell_type": "code",
   "execution_count": 49,
   "id": "3f7a079d-d6e0-40e4-bd3d-e88e9740d1a8",
   "metadata": {},
   "outputs": [
    {
     "data": {
      "text/html": [
       "<div>\n",
       "<style scoped>\n",
       "    .dataframe tbody tr th:only-of-type {\n",
       "        vertical-align: middle;\n",
       "    }\n",
       "\n",
       "    .dataframe tbody tr th {\n",
       "        vertical-align: top;\n",
       "    }\n",
       "\n",
       "    .dataframe thead th {\n",
       "        text-align: right;\n",
       "    }\n",
       "</style>\n",
       "<table border=\"1\" class=\"dataframe\">\n",
       "  <thead>\n",
       "    <tr style=\"text-align: right;\">\n",
       "      <th></th>\n",
       "      <th>locus_tags</th>\n",
       "      <th>names</th>\n",
       "      <th>systems</th>\n",
       "      <th>tool</th>\n",
       "    </tr>\n",
       "  </thead>\n",
       "  <tbody>\n",
       "    <tr>\n",
       "      <th>0</th>\n",
       "      <td>BKDLJELO_00330</td>\n",
       "      <td>MTase_I</td>\n",
       "      <td>DMS_other</td>\n",
       "      <td>padloc</td>\n",
       "    </tr>\n",
       "    <tr>\n",
       "      <th>1</th>\n",
       "      <td>BKDLJELO_00330</td>\n",
       "      <td>MTase_I</td>\n",
       "      <td>RM_type_I</td>\n",
       "      <td>padloc</td>\n",
       "    </tr>\n",
       "    <tr>\n",
       "      <th>2</th>\n",
       "      <td>BKDLJELO_00331</td>\n",
       "      <td>Specificity_I</td>\n",
       "      <td>DMS_other</td>\n",
       "      <td>padloc</td>\n",
       "    </tr>\n",
       "    <tr>\n",
       "      <th>3</th>\n",
       "      <td>BKDLJELO_00331</td>\n",
       "      <td>Specificity_I</td>\n",
       "      <td>RM_type_I</td>\n",
       "      <td>padloc</td>\n",
       "    </tr>\n",
       "    <tr>\n",
       "      <th>4</th>\n",
       "      <td>BKDLJELO_00332</td>\n",
       "      <td>REase_I</td>\n",
       "      <td>DMS_other</td>\n",
       "      <td>padloc</td>\n",
       "    </tr>\n",
       "  </tbody>\n",
       "</table>\n",
       "</div>"
      ],
      "text/plain": [
       "       locus_tags          names    systems    tool\n",
       "0  BKDLJELO_00330        MTase_I  DMS_other  padloc\n",
       "1  BKDLJELO_00330        MTase_I  RM_type_I  padloc\n",
       "2  BKDLJELO_00331  Specificity_I  DMS_other  padloc\n",
       "3  BKDLJELO_00331  Specificity_I  RM_type_I  padloc\n",
       "4  BKDLJELO_00332        REase_I  DMS_other  padloc"
      ]
     },
     "execution_count": 49,
     "metadata": {},
     "output_type": "execute_result"
    }
   ],
   "source": [
    "defense_system_prediction_df = read_and_merge_predictions(defense_system_prediction_dir=defense_system_prediction_dir)\n",
    "defense_system_prediction_df.head()\n"
   ]
  },
  {
   "cell_type": "code",
   "execution_count": 50,
   "id": "45c77287-6217-441d-bc9a-b7cd3ce18ae6",
   "metadata": {},
   "outputs": [
    {
     "data": {
      "text/plain": [
       "('ACCAFLOF_00774',\n",
       " 'tool=padloc:names=oMTase,systems=DMS_other;tool=padloc:names=MTase_II,systems=RM_type_II')"
      ]
     },
     "execution_count": 50,
     "metadata": {},
     "output_type": "execute_result"
    }
   ],
   "source": [
    "get_defense_string = lambda locus_tag, df: (locus_tag, ';'.join(map(lambda z: ':'.join((z[-1], ','.join(z[1:-1]))), map(lambda y: tuple(map('='.join, y)) , map(lambda x: zip(*x), zip(itertools.repeat(df.columns.tolist()) , df.values.tolist())) ))))\n",
    "defense_system_prediction_mask = pd.DataFrame(\n",
    "    map(lambda args: get_defense_string(*args), defense_system_prediction_df.fillna('NA').groupby('locus_tags')),\n",
    "    columns=('locus_tags', 'defense_prediction')\n",
    ").set_index('locus_tags', drop=True).defense_prediction.to_dict()\n",
    "list(defense_system_prediction_mask.items())[0]"
   ]
  },
  {
   "cell_type": "code",
   "execution_count": 51,
   "id": "6b6eec18-2cda-4357-9c0e-a505399c003b",
   "metadata": {},
   "outputs": [
    {
     "data": {
      "text/html": [
       "<div>\n",
       "<style scoped>\n",
       "    .dataframe tbody tr th:only-of-type {\n",
       "        vertical-align: middle;\n",
       "    }\n",
       "\n",
       "    .dataframe tbody tr th {\n",
       "        vertical-align: top;\n",
       "    }\n",
       "\n",
       "    .dataframe thead th {\n",
       "        text-align: right;\n",
       "    }\n",
       "</style>\n",
       "<table border=\"1\" class=\"dataframe\">\n",
       "  <thead>\n",
       "    <tr style=\"text-align: right;\">\n",
       "      <th></th>\n",
       "      <th>id</th>\n",
       "      <th>members_count</th>\n",
       "      <th>is_GOI</th>\n",
       "      <th>features</th>\n",
       "      <th>group</th>\n",
       "      <th>defense_system_prediction</th>\n",
       "    </tr>\n",
       "  </thead>\n",
       "  <tbody>\n",
       "    <tr>\n",
       "      <th>33</th>\n",
       "      <td>KDHGNBDG_03651_ecoRIIR</td>\n",
       "      <td>2</td>\n",
       "      <td>True</td>\n",
       "      <td>gene=ecoRIIR;locus_tag=KDHGNBDG_03651;product=...</td>\n",
       "      <td>GOI</td>\n",
       "      <td>tool=padloc:names=REase_II,systems=DMS_other;t...</td>\n",
       "    </tr>\n",
       "    <tr>\n",
       "      <th>34</th>\n",
       "      <td>KDHGNBDG_03652_dcm_2</td>\n",
       "      <td>12</td>\n",
       "      <td>True</td>\n",
       "      <td>gene=dcm_2;locus_tag=KDHGNBDG_03652;product=DN...</td>\n",
       "      <td>GOI</td>\n",
       "      <td>tool=padloc:names=MTase_II,systems=DMS_other;t...</td>\n",
       "    </tr>\n",
       "    <tr>\n",
       "      <th>35</th>\n",
       "      <td>KDHGNBDG_03655_NA</td>\n",
       "      <td>1</td>\n",
       "      <td>True</td>\n",
       "      <td>gene=NA;locus_tag=KDHGNBDG_03655;product=hypot...</td>\n",
       "      <td>GOI</td>\n",
       "      <td>tool=padloc:names=Control_protein,systems=DMS_...</td>\n",
       "    </tr>\n",
       "    <tr>\n",
       "      <th>54</th>\n",
       "      <td>KDHGNBDG_00483_rep_2</td>\n",
       "      <td>1</td>\n",
       "      <td>True</td>\n",
       "      <td>gene=rep_2;locus_tag=KDHGNBDG_00483;product=AT...</td>\n",
       "      <td>GOI</td>\n",
       "      <td>tool=padloc:names=GajB,systems=gabija;tool=def...</td>\n",
       "    </tr>\n",
       "    <tr>\n",
       "      <th>55</th>\n",
       "      <td>KDHGNBDG_00484_NA</td>\n",
       "      <td>1</td>\n",
       "      <td>True</td>\n",
       "      <td>gene=NA;locus_tag=KDHGNBDG_00484;product=hypot...</td>\n",
       "      <td>GOI</td>\n",
       "      <td>tool=padloc:names=GajA,systems=gabija;tool=def...</td>\n",
       "    </tr>\n",
       "  </tbody>\n",
       "</table>\n",
       "</div>"
      ],
      "text/plain": [
       "                        id  members_count  is_GOI  \\\n",
       "33  KDHGNBDG_03651_ecoRIIR              2    True   \n",
       "34    KDHGNBDG_03652_dcm_2             12    True   \n",
       "35       KDHGNBDG_03655_NA              1    True   \n",
       "54    KDHGNBDG_00483_rep_2              1    True   \n",
       "55       KDHGNBDG_00484_NA              1    True   \n",
       "\n",
       "                                             features group  \\\n",
       "33  gene=ecoRIIR;locus_tag=KDHGNBDG_03651;product=...   GOI   \n",
       "34  gene=dcm_2;locus_tag=KDHGNBDG_03652;product=DN...   GOI   \n",
       "35  gene=NA;locus_tag=KDHGNBDG_03655;product=hypot...   GOI   \n",
       "54  gene=rep_2;locus_tag=KDHGNBDG_00483;product=AT...   GOI   \n",
       "55  gene=NA;locus_tag=KDHGNBDG_00484;product=hypot...   GOI   \n",
       "\n",
       "                            defense_system_prediction  \n",
       "33  tool=padloc:names=REase_II,systems=DMS_other;t...  \n",
       "34  tool=padloc:names=MTase_II,systems=DMS_other;t...  \n",
       "35  tool=padloc:names=Control_protein,systems=DMS_...  \n",
       "54  tool=padloc:names=GajB,systems=gabija;tool=def...  \n",
       "55  tool=padloc:names=GajA,systems=gabija;tool=def...  "
      ]
     },
     "execution_count": 51,
     "metadata": {},
     "output_type": "execute_result"
    }
   ],
   "source": [
    "nodes = nodes.assign( defense_system_prediction = lambda df: df.features.apply(lambda x: defense_system_prediction_mask.get(x.split(';')[1].replace('locus_tag=', ''), 'NA')) )\n",
    "nodes.query('defense_system_prediction != \"NA\"').head()"
   ]
  },
  {
   "cell_type": "code",
   "execution_count": 102,
   "id": "b50d318e-40ed-4b3b-8cbd-1af3082af074",
   "metadata": {},
   "outputs": [
    {
     "name": "stdout",
     "output_type": "stream",
     "text": [
      "Skip reloading Javascript client ... 27c2754d-4517-46f1-b58b-6e4539806ab5 on https://jupyter-bridge.cytoscape.org\n",
      "You are connected to Cytoscape!\n"
     ]
    },
    {
     "data": {
      "text/plain": [
       "{'apiVersion': 'v1',\n",
       " 'cytoscapeVersion': '3.9.1',\n",
       " 'automationAPIVersion': '1.6.0',\n",
       " 'py4cytoscapeVersion': '1.5.0'}"
      ]
     },
     "execution_count": 102,
     "metadata": {},
     "output_type": "execute_result"
    }
   ],
   "source": [
    "import requests\n",
    "import py4cytoscape as p4c\n",
    "\n",
    "exec(requests.get(\"https://raw.githubusercontent.com/cytoscape/jupyter-bridge/master/client/p4c_init.py\").text)\n",
    "IPython.display.Javascript(_PY4CYTOSCAPE_BROWSER_CLIENT_JS) # Start browser client\n",
    "p4c.cytoscape_ping()\n",
    "p4c.cytoscape_version_info()\n"
   ]
  },
  {
   "cell_type": "code",
   "execution_count": 103,
   "id": "c9afa049-a09a-4ca5-90cc-ed95739126ef",
   "metadata": {},
   "outputs": [
    {
     "name": "stdout",
     "output_type": "stream",
     "text": [
      "Applying default style...\n",
      "Applying preferred layout\n"
     ]
    },
    {
     "data": {
      "text/plain": [
       "124"
      ]
     },
     "execution_count": 103,
     "metadata": {},
     "output_type": "execute_result"
    }
   ],
   "source": [
    "p4c.create_network_from_data_frames(nodes, edges, title=\"Salmonella Bacterial Immunity\", collection=\"Salmonella\")"
   ]
  },
  {
   "cell_type": "code",
   "execution_count": 104,
   "id": "81c5dcdb-527b-4a63-9a48-089b2654b3ad",
   "metadata": {},
   "outputs": [
    {
     "data": {
      "text/plain": [
       "{}"
      ]
     },
     "execution_count": 104,
     "metadata": {},
     "output_type": "execute_result"
    }
   ],
   "source": [
    "p4c.layout_network('kamada-kawai')"
   ]
  },
  {
   "cell_type": "code",
   "execution_count": 105,
   "id": "d717742c-2178-4d29-a7dc-8c17a83f9aa8",
   "metadata": {},
   "outputs": [
    {
     "data": {
      "text/plain": [
       "{'message': 'Visual Style applied.'}"
      ]
     },
     "execution_count": 105,
     "metadata": {},
     "output_type": "execute_result"
    }
   ],
   "source": [
    "style_name = \"myStyle\"\n",
    "defaults = {'NODE_SHAPE': \"ELLIPSE\", 'NODE_SIZE': 10, 'NODE_FILL_COLOR' : '#7b8fba'}\n",
    "node_labels = p4c.map_visual_property('node label', 'id', 'p') \n",
    "node_size_map = p4c.map_visual_property('NODE_SIZE', 'members_count', 'p')\n",
    "p4c.create_visual_style(style_name, defaults, [node_size_map, node_labels])\n",
    "p4c.set_visual_style(style_name)"
   ]
  },
  {
   "cell_type": "code",
   "execution_count": 106,
   "id": "75f8991c-0ebd-4a87-8f16-8a9bdee9d463",
   "metadata": {},
   "outputs": [
    {
     "data": {
      "text/plain": [
       "''"
      ]
     },
     "execution_count": 106,
     "metadata": {},
     "output_type": "execute_result"
    }
   ],
   "source": [
    "p4c.update_style_mapping(style_name, node_size_map)"
   ]
  },
  {
   "cell_type": "code",
   "execution_count": 107,
   "id": "169a8623-fe13-4667-9817-7065889707e9",
   "metadata": {},
   "outputs": [
    {
     "data": {
      "text/plain": [
       "''"
      ]
     },
     "execution_count": 107,
     "metadata": {},
     "output_type": "execute_result"
    }
   ],
   "source": [
    "p4c.update_style_mapping(style_name, node_size_map)"
   ]
  },
  {
   "cell_type": "code",
   "execution_count": 83,
   "id": "a3e2187b-6368-4305-a086-db2e58d4bf42",
   "metadata": {},
   "outputs": [
    {
     "data": {
      "text/plain": [
       "'Success: Data loaded in defaultnode table'"
      ]
     },
     "execution_count": 83,
     "metadata": {},
     "output_type": "execute_result"
    }
   ],
   "source": [
    "# Fix sizes (min 10, max 260)\n",
    "min_size = 20\n",
    "max_size = 260\n",
    "factor = 10\n",
    "p4c.load_table_data(p4c.get_table_columns().assign(members_count  = lambda df: df.members_count.apply(lambda x: min(max_size, max(min_size, factor * x)))).loc[:,['name', 'members_count']].set_index('name', drop=True))"
   ]
  },
  {
   "cell_type": "code",
   "execution_count": 67,
   "id": "f6b8c08a-2e3d-4199-9cd3-84375a13c3df",
   "metadata": {},
   "outputs": [],
   "source": [
    "# node_size_map = p4c.map_visual_property('NODE_SIZE', 'members_count', 'p')\n",
    "\n"
   ]
  },
  {
   "cell_type": "code",
   "execution_count": 75,
   "id": "1c8ef41b-7d70-45ca-a073-7ef6cb3b3690",
   "metadata": {},
   "outputs": [
    {
     "ename": "TypeError",
     "evalue": "get_style_all_mappings() missing 1 required positional argument: 'style_name'",
     "output_type": "error",
     "traceback": [
      "\u001b[0;31m---------------------------------------------------------------------------\u001b[0m",
      "\u001b[0;31mTypeError\u001b[0m                                 Traceback (most recent call last)",
      "Input \u001b[0;32mIn [75]\u001b[0m, in \u001b[0;36m<cell line: 2>\u001b[0;34m()\u001b[0m\n\u001b[1;32m      1\u001b[0m \u001b[38;5;66;03m# p4c.update_style_mapping(mapping=node_size_map)\u001b[39;00m\n\u001b[0;32m----> 2\u001b[0m \u001b[43mp4c\u001b[49m\u001b[38;5;241;43m.\u001b[39;49m\u001b[43mget_style_all_mappings\u001b[49m\u001b[43m(\u001b[49m\u001b[43m)\u001b[49m\n",
      "File \u001b[0;32m~/.local/lib/python3.10/site-packages/py4cytoscape/py4cytoscape_logger.py:133\u001b[0m, in \u001b[0;36mcy_log.<locals>.wrapper_log\u001b[0;34m(*args, **kwargs)\u001b[0m\n\u001b[1;32m    131\u001b[0m     \u001b[38;5;28;01mreturn\u001b[39;00m log_return(func, value)\n\u001b[1;32m    132\u001b[0m \u001b[38;5;28;01mexcept\u001b[39;00m \u001b[38;5;167;01mException\u001b[39;00m \u001b[38;5;28;01mas\u001b[39;00m e:\n\u001b[0;32m--> 133\u001b[0m     \u001b[43mlog_exception\u001b[49m\u001b[43m(\u001b[49m\u001b[43mfunc\u001b[49m\u001b[43m,\u001b[49m\u001b[43m \u001b[49m\u001b[43me\u001b[49m\u001b[43m)\u001b[49m\n\u001b[1;32m    134\u001b[0m \u001b[38;5;28;01mfinally\u001b[39;00m:\n\u001b[1;32m    135\u001b[0m     log_finally()\n",
      "File \u001b[0;32m~/.local/lib/python3.10/site-packages/py4cytoscape/py4cytoscape_logger.py:130\u001b[0m, in \u001b[0;36mcy_log.<locals>.wrapper_log\u001b[0;34m(*args, **kwargs)\u001b[0m\n\u001b[1;32m    128\u001b[0m log_incoming(func, \u001b[38;5;241m*\u001b[39margs, \u001b[38;5;241m*\u001b[39m\u001b[38;5;241m*\u001b[39mkwargs)\n\u001b[1;32m    129\u001b[0m \u001b[38;5;28;01mtry\u001b[39;00m:\n\u001b[0;32m--> 130\u001b[0m     value \u001b[38;5;241m=\u001b[39m \u001b[43mfunc\u001b[49m\u001b[43m(\u001b[49m\u001b[38;5;241;43m*\u001b[39;49m\u001b[43margs\u001b[49m\u001b[43m,\u001b[49m\u001b[43m \u001b[49m\u001b[38;5;241;43m*\u001b[39;49m\u001b[38;5;241;43m*\u001b[39;49m\u001b[43mkwargs\u001b[49m\u001b[43m)\u001b[49m \u001b[38;5;66;03m# Call function being logged\u001b[39;00m\n\u001b[1;32m    131\u001b[0m     \u001b[38;5;28;01mreturn\u001b[39;00m log_return(func, value)\n\u001b[1;32m    132\u001b[0m \u001b[38;5;28;01mexcept\u001b[39;00m \u001b[38;5;167;01mException\u001b[39;00m \u001b[38;5;28;01mas\u001b[39;00m e:\n",
      "\u001b[0;31mTypeError\u001b[0m: get_style_all_mappings() missing 1 required positional argument: 'style_name'"
     ]
    }
   ],
   "source": [
    "# p4c.update_style_mapping(mapping=node_size_map)\n",
    "# node_size_map\n",
    "# help(p4c.update_style_mapping)"
   ]
  },
  {
   "cell_type": "code",
   "execution_count": 57,
   "id": "694571e7-17bc-467f-8bf3-4e970d527960",
   "metadata": {},
   "outputs": [],
   "source": [
    "import re\n",
    "def get_defense_name(prediction_string: str):\n",
    "    if prediction_string == 'NA':\n",
    "        return 'NA'\n",
    "    \n",
    "    systems = re.findall('(?<=systems\\=).+?(?=\\;)', prediction_string)\n",
    "    \n",
    "    if not systems:\n",
    "        return 'NA'\n",
    "    \n",
    "    return list(map(lambda x: x.upper().split('_')[0], systems))[0]\n",
    "    \n",
    "defense_map_df =  p4c.get_table_columns().set_index('name', drop=True).loc[:,['defense_system_prediction']] \\\n",
    "    .assign(defense_map = lambda df: df.defense_system_prediction.apply(lambda x: get_defense_name(x))).query('defense_map != \"NA\"') \\\n",
    "    .loc[:, ['defense_map']]"
   ]
  },
  {
   "cell_type": "code",
   "execution_count": 58,
   "id": "e444f352-1770-497e-8745-0a9ea2f3eea8",
   "metadata": {},
   "outputs": [
    {
     "data": {
      "text/plain": [
       "'Success: Data loaded in defaultnode table'"
      ]
     },
     "execution_count": 58,
     "metadata": {},
     "output_type": "execute_result"
    }
   ],
   "source": [
    "p4c.load_table_data(defense_map_df)"
   ]
  },
  {
   "cell_type": "code",
   "execution_count": 59,
   "id": "97885b1a-b473-4c9b-9121-401bc2f6c794",
   "metadata": {},
   "outputs": [
    {
     "data": {
      "text/plain": [
       "''"
      ]
     },
     "execution_count": 59,
     "metadata": {},
     "output_type": "execute_result"
    }
   ],
   "source": [
    "p4c.set_node_color_mapping(**p4c.gen_node_color_map('defense_map', mapping_type='d', style_name='default'))"
   ]
  },
  {
   "cell_type": "code",
   "execution_count": 65,
   "id": "47f8e243-fd61-4ce8-aa28-456fd273fbbd",
   "metadata": {},
   "outputs": [
    {
     "data": {
      "text/html": [
       "<div>\n",
       "<style scoped>\n",
       "    .dataframe tbody tr th:only-of-type {\n",
       "        vertical-align: middle;\n",
       "    }\n",
       "\n",
       "    .dataframe tbody tr th {\n",
       "        vertical-align: top;\n",
       "    }\n",
       "\n",
       "    .dataframe thead th {\n",
       "        text-align: right;\n",
       "    }\n",
       "</style>\n",
       "<table border=\"1\" class=\"dataframe\">\n",
       "  <thead>\n",
       "    <tr style=\"text-align: right;\">\n",
       "      <th></th>\n",
       "      <th>color</th>\n",
       "    </tr>\n",
       "    <tr>\n",
       "      <th>defense_map</th>\n",
       "      <th></th>\n",
       "    </tr>\n",
       "  </thead>\n",
       "  <tbody>\n",
       "    <tr>\n",
       "      <th>DRT</th>\n",
       "      <td>#F9D448</td>\n",
       "    </tr>\n",
       "    <tr>\n",
       "      <th>CAS</th>\n",
       "      <td>#D0BDA1</td>\n",
       "    </tr>\n",
       "    <tr>\n",
       "      <th>DMS</th>\n",
       "      <td>#B3B3B3</td>\n",
       "    </tr>\n",
       "    <tr>\n",
       "      <th>DSR1</th>\n",
       "      <td>#BEA37E</td>\n",
       "    </tr>\n",
       "    <tr>\n",
       "      <th>GABIJA</th>\n",
       "      <td>#AB99C8</td>\n",
       "    </tr>\n",
       "  </tbody>\n",
       "</table>\n",
       "</div>"
      ],
      "text/plain": [
       "               color\n",
       "defense_map         \n",
       "DRT          #F9D448\n",
       "CAS          #D0BDA1\n",
       "DMS          #B3B3B3\n",
       "DSR1         #BEA37E\n",
       "GABIJA       #AB99C8"
      ]
     },
     "execution_count": 65,
     "metadata": {},
     "output_type": "execute_result"
    },
    {
     "data": {
      "image/png": "[encoded data removed]",
      "text/plain": [
       "<Figure size 432x288 with 1 Axes>"
      ]
     },
     "metadata": {
      "needs_background": "light"
     },
     "output_type": "display_data"
    }
   ],
   "source": [
    "# p4c.get_node_property(visual_property='NODE_FILL_COLOR', node_names=nv1)\n",
    "# COLORS\n",
    "\n",
    "import matplotlib.pyplot as plt\n",
    "import matplotlib\n",
    "import matplotlib.patches as mpatches\n",
    "\n",
    "colors_df = p4c.get_table_columns().loc[:,['id', 'defense_map']].dropna().groupby('defense_map', as_index=False).pipe(lambda df: df.head(1)) \\\n",
    "    .assign(color = lambda df: tuple(map(lambda cluster_id: tuple(p4c.get_node_color(cluster_id).values())[0], df.id.values.tolist()))) \\\n",
    "    .iloc[:, 1:].drop_duplicates().set_index('defense_map', drop=True)\n",
    "\n",
    "plt.legend(\n",
    "    handles=[mpatches.Patch(color=color, label=system)  for system, color in colors_df.color.to_dict().items()],\n",
    "    loc='center', frameon=False, title='Defense Systems Colors'\n",
    ")\n",
    "colors_df.head()"
   ]
  },
  {
   "cell_type": "code",
   "execution_count": 62,
   "id": "167cc1e8-8608-4732-b280-039d89b0f546",
   "metadata": {},
   "outputs": [
    {
     "data": {
      "text/html": [
       "<div>\n",
       "<style scoped>\n",
       "    .dataframe tbody tr th:only-of-type {\n",
       "        vertical-align: middle;\n",
       "    }\n",
       "\n",
       "    .dataframe tbody tr th {\n",
       "        vertical-align: top;\n",
       "    }\n",
       "\n",
       "    .dataframe thead th {\n",
       "        text-align: right;\n",
       "    }\n",
       "</style>\n",
       "<table border=\"1\" class=\"dataframe\">\n",
       "  <thead>\n",
       "    <tr style=\"text-align: right;\">\n",
       "      <th></th>\n",
       "      <th>SUID</th>\n",
       "      <th>shared name</th>\n",
       "      <th>shared interaction</th>\n",
       "      <th>name</th>\n",
       "      <th>selected</th>\n",
       "      <th>interaction</th>\n",
       "      <th>source</th>\n",
       "      <th>target</th>\n",
       "      <th>edge_count</th>\n",
       "      <th>data.key.column</th>\n",
       "    </tr>\n",
       "  </thead>\n",
       "  <tbody>\n",
       "    <tr>\n",
       "      <th>2051</th>\n",
       "      <td>2051</td>\n",
       "      <td>IOMDNFNB_00332_yjhB_1 (interacts with) IOMDNFN...</td>\n",
       "      <td>interacts with</td>\n",
       "      <td>IOMDNFNB_00332_yjhB_1 (interacts with) IOMDNFN...</td>\n",
       "      <td>False</td>\n",
       "      <td>interacts with</td>\n",
       "      <td>IOMDNFNB_00332_yjhB_1</td>\n",
       "      <td>IOMDNFNB_00333_NA</td>\n",
       "      <td>10</td>\n",
       "      <td>2051</td>\n",
       "    </tr>\n",
       "    <tr>\n",
       "      <th>2054</th>\n",
       "      <td>2054</td>\n",
       "      <td>IOMDNFNB_01075_NA (interacts with) IOMDNFNB_01...</td>\n",
       "      <td>interacts with</td>\n",
       "      <td>IOMDNFNB_01075_NA (interacts with) IOMDNFNB_01...</td>\n",
       "      <td>False</td>\n",
       "      <td>interacts with</td>\n",
       "      <td>IOMDNFNB_01075_NA</td>\n",
       "      <td>IOMDNFNB_01076_dgcQ</td>\n",
       "      <td>10</td>\n",
       "      <td>2054</td>\n",
       "    </tr>\n",
       "    <tr>\n",
       "      <th>2057</th>\n",
       "      <td>2057</td>\n",
       "      <td>IOMDNFNB_01076_dgcQ (interacts with) IOMDNFNB_...</td>\n",
       "      <td>interacts with</td>\n",
       "      <td>IOMDNFNB_01076_dgcQ (interacts with) IOMDNFNB_...</td>\n",
       "      <td>False</td>\n",
       "      <td>interacts with</td>\n",
       "      <td>IOMDNFNB_01076_dgcQ</td>\n",
       "      <td>IOMDNFNB_01077_yedP</td>\n",
       "      <td>10</td>\n",
       "      <td>2057</td>\n",
       "    </tr>\n",
       "    <tr>\n",
       "      <th>2060</th>\n",
       "      <td>2060</td>\n",
       "      <td>IOMDNFNB_01072_vsr (interacts with) IOMDNFNB_0...</td>\n",
       "      <td>interacts with</td>\n",
       "      <td>IOMDNFNB_01072_vsr (interacts with) IOMDNFNB_0...</td>\n",
       "      <td>False</td>\n",
       "      <td>interacts with</td>\n",
       "      <td>IOMDNFNB_01072_vsr</td>\n",
       "      <td>IOMDNFNB_01073_yedA</td>\n",
       "      <td>10</td>\n",
       "      <td>2060</td>\n",
       "    </tr>\n",
       "    <tr>\n",
       "      <th>2063</th>\n",
       "      <td>2063</td>\n",
       "      <td>IOMDNFNB_01077_yedP (interacts with) IOMDNFNB_...</td>\n",
       "      <td>interacts with</td>\n",
       "      <td>IOMDNFNB_01077_yedP (interacts with) IOMDNFNB_...</td>\n",
       "      <td>False</td>\n",
       "      <td>interacts with</td>\n",
       "      <td>IOMDNFNB_01077_yedP</td>\n",
       "      <td>IOMDNFNB_01078_NA</td>\n",
       "      <td>10</td>\n",
       "      <td>2063</td>\n",
       "    </tr>\n",
       "  </tbody>\n",
       "</table>\n",
       "</div>"
      ],
      "text/plain": [
       "      SUID                                        shared name  \\\n",
       "2051  2051  IOMDNFNB_00332_yjhB_1 (interacts with) IOMDNFN...   \n",
       "2054  2054  IOMDNFNB_01075_NA (interacts with) IOMDNFNB_01...   \n",
       "2057  2057  IOMDNFNB_01076_dgcQ (interacts with) IOMDNFNB_...   \n",
       "2060  2060  IOMDNFNB_01072_vsr (interacts with) IOMDNFNB_0...   \n",
       "2063  2063  IOMDNFNB_01077_yedP (interacts with) IOMDNFNB_...   \n",
       "\n",
       "     shared interaction                                               name  \\\n",
       "2051     interacts with  IOMDNFNB_00332_yjhB_1 (interacts with) IOMDNFN...   \n",
       "2054     interacts with  IOMDNFNB_01075_NA (interacts with) IOMDNFNB_01...   \n",
       "2057     interacts with  IOMDNFNB_01076_dgcQ (interacts with) IOMDNFNB_...   \n",
       "2060     interacts with  IOMDNFNB_01072_vsr (interacts with) IOMDNFNB_0...   \n",
       "2063     interacts with  IOMDNFNB_01077_yedP (interacts with) IOMDNFNB_...   \n",
       "\n",
       "     selected     interaction                 source               target  \\\n",
       "2051    False  interacts with  IOMDNFNB_00332_yjhB_1    IOMDNFNB_00333_NA   \n",
       "2054    False  interacts with      IOMDNFNB_01075_NA  IOMDNFNB_01076_dgcQ   \n",
       "2057    False  interacts with    IOMDNFNB_01076_dgcQ  IOMDNFNB_01077_yedP   \n",
       "2060    False  interacts with     IOMDNFNB_01072_vsr  IOMDNFNB_01073_yedA   \n",
       "2063    False  interacts with    IOMDNFNB_01077_yedP    IOMDNFNB_01078_NA   \n",
       "\n",
       "     edge_count data.key.column  \n",
       "2051         10            2051  \n",
       "2054         10            2054  \n",
       "2057         10            2057  \n",
       "2060         10            2060  \n",
       "2063         10            2063  "
      ]
     },
     "execution_count": 62,
     "metadata": {},
     "output_type": "execute_result"
    }
   ],
   "source": [
    "min_edge_size = 3\n",
    "p4c.get_table_columns(table='edge').query('edge_count >= @min_edge_size').head()"
   ]
  },
  {
   "cell_type": "code",
   "execution_count": 536,
   "id": "55c5b20c-d5a1-4e85-b42f-f9ad782138bb",
   "metadata": {},
   "outputs": [
    {
     "name": "stdout",
     "output_type": "stream",
     "text": [
      "Help on function create_degree_filter in module py4cytoscape.filters:\n",
      "\n",
      "create_degree_filter(filter_name, criterion, predicate='BETWEEN', edge_type='ANY', hide=False, network=None, base_url='http://127.0.0.1:1234/v1', *, apply=True)\n",
      "    Create Degree Filter.\n",
      "    \n",
      "    Creates a filter to control node selection base on in/out degree.\n",
      "    \n",
      "    Args:\n",
      "        filter_name (str): Name for new filter.\n",
      "        criterion (list): A two-element vector of numbers, example: [1,5].\n",
      "        predicate (str):  BETWEEN (default) or IS_NOT_BETWEEN\n",
      "        edgeType (str): Type of edges to consider in degree count: ANY (default), UNDIRECTED, INCOMING, OUTGOING, DIRECTED\n",
      "        hide (bool): Whether to hide filtered out nodes and edges. Default is FALSE.\n",
      "            Ignored if all nodes or edges are filtered out. This is an alternative to filtering for node and edge selection.\n",
      "        network (SUID or str or None): Name or SUID of the network. Default is the \"current\" network active in Cytoscape.\n",
      "        base_url (str): Ignore unless you need to specify a custom domain,\n",
      "            port or version to connect to the CyREST API. Default is http://localhost:1234\n",
      "            and the latest version of the CyREST API supported by this version of py4cytoscape.\n",
      "        apply (bool): True to execute filter immediately; False to define filter but not execute it\n",
      "    \n",
      "    Returns:\n",
      "        dict: {'nodes': <node list>, 'edges': <edge list>} returns list of nodes and edges selected after filter executes; None if filter wasn't applied\n",
      "    \n",
      "    Raises:\n",
      "        CyError: if criterion is not list of two values or filter couldn't be applied\n",
      "        requests.exceptions.RequestException: if can't connect to Cytoscape or Cytoscape returns an error\n",
      "    \n",
      "    Examples:\n",
      "        >>> create_degree_filter('myFilter', [2, 5]) # filter on any nodes having between 2 and 5 edges\n",
      "        {'nodes': ['YDR395W', 'YLR362W', 'YPL248C', 'YGL035C'], 'edges': None}\n",
      "        >>> create_degree_filter('myFilter', [2, 5], predicate='IS_NOT_BETWEEN') # filter for edges < 2 or > 5\n",
      "        {'nodes': ['YDR395W', 'YLR362W', 'YPL248C', 'YGL035C'], 'edges': None}\n",
      "        >>> create_column_filter('myFilter', [2, 5], edge_type='INCOMING') # filter for between 2 and 5 incoming edges\n",
      "        {'nodes': ['YDR395W', 'YLR362W', 'YPL248C', 'YGL035C'], 'edges': None}\n",
      "        >>> create_column_filter('myFilter', [2, 5], hide=True) # filter for between 2 and 5 edges, and hide them\n",
      "        {'nodes': ['YDR395W', 'YLR362W', 'YPL248C', 'YGL035C'], 'edges': None}\n",
      "        >>> create_column_filter('myFilter', [2, 5], apply=False) # define filter for between 2 and 5 edges, and hide them\n",
      "        {'nodes': ['YDR395W', 'YLR362W', 'YPL248C', 'YGL035C'], 'edges': None}\n",
      "\n"
     ]
    }
   ],
   "source": [
    "help(p4c.create_degree_filter) # ('degree filter', [0, 2], predicate='IS_NOT_BETWEEN')\n"
   ]
  },
  {
   "cell_type": "code",
   "execution_count": 63,
   "id": "bc86e83a-fa66-4146-a48a-9f5f0687f995",
   "metadata": {},
   "outputs": [
    {
     "name": "stdout",
     "output_type": "stream",
     "text": [
      "No nodes selected.\n"
     ]
    },
    {
     "data": {
      "text/plain": [
       "6694"
      ]
     },
     "execution_count": 63,
     "metadata": {},
     "output_type": "execute_result"
    }
   ],
   "source": [
    "p4c.create_column_filter('persistence', 'edge_count', min_edge_size, 'GREATER_THAN_OR_EQUAL', type='edges')\n",
    "p4c.create_subnetwork(subnetwork_name='Salmonella Bacterial Immunity (filtered min_persistence: {})'.format(str(min_edge_size)))"
   ]
  },
  {
   "cell_type": "code",
   "execution_count": 546,
   "id": "a7fa47c3-0c72-49a8-9213-c07c75688a62",
   "metadata": {},
   "outputs": [
    {
     "name": "stdout",
     "output_type": "stream",
     "text": [
      "Help on function create_subnetwork in module py4cytoscape.networks:\n",
      "\n",
      "create_subnetwork(nodes=None, nodes_by_col='SUID', edges=None, edges_by_col='SUID', exclude_edges=False, subnetwork_name=None, network=None, base_url='http://127.0.0.1:1234/v1')\n",
      "    Copies a subset of nodes and edges into a newly created subnetwork.\n",
      "    \n",
      "    Args:\n",
      "        nodes (str or list or int or None): List of nodes or keyword: selected, unselected or all. If node list:\n",
      "            ``list`` of node names or SUIDs, comma-separated string of node names or SUIDs, or scalar node name\n",
      "            or SUID. Node names should be found in the ``SUID`` column of the ``node table`` unless\n",
      "            specified in ``nodes_by_col``. If list is None, default is currently selected nodes.\n",
      "        nodes_by_col (str): name of node table column corresponding to provided nodes list; default is 'SUID'\n",
      "        edges (str or list or int or None): List of edges or keyword: selected, unselected or all. If edge list:\n",
      "            ``list`` of edge names or SUIDs, comma-separated string of edge names or SUIDs, or scalar edge name\n",
      "            or SUID. Edge names should be found in the ``SUID`` column of the ``edge table`` unless\n",
      "            specified in ``edges_by_col``. If list is None, default is currently selected edges.\n",
      "        edges_by_col (str): name of edge table column corresponding to provided edges list; default is 'SUID'\n",
      "        exclude_edges (bool): whether to exclude connecting edges; default is FALSE\n",
      "        subnetwork_name (str): name of new subnetwork to be created; default is to add a numbered suffix to source network name\n",
      "        network (SUID or str or None): Name or SUID of a network or view. Default is the\n",
      "            \"current\" network active in Cytoscape.\n",
      "        base_url (str): Ignore unless you need to specify a custom domain,\n",
      "            port or version to connect to the CyREST API. Default is http://127.0.0.1:1234\n",
      "            and the latest version of the CyREST API supported by this version of py4cytoscape.\n",
      "    \n",
      "    Returns:\n",
      "        int: The ``SUID`` of the new subnetwork\n",
      "    \n",
      "    Raises:\n",
      "        ValueError: if server response has no JSON\n",
      "        CyError: if network name or SUID doesn't exist\n",
      "        requests.exceptions.RequestException: if can't connect to Cytoscape or Cytoscape returns an error\n",
      "    \n",
      "    Examples:\n",
      "        >>> create_subnetwork(nodes='all') # choose all selected and unselected nodes\n",
      "        1477\n",
      "        >>> create_subnetwork(edges='selected') # choose only nodes whose edges are selected, and include those edges\n",
      "        1477\n",
      "        >>> create_subnetwork(nodes=['RAP1', 'HIS4', 'PDC1', 'RPL18A'], nodes_by_col='COMMON', subnetwork_name=base_name+'xx')\n",
      "        1477\n",
      "        >>> create_subnetwork(nodes='RAP1, HIS4, PDC1, RPL18A', nodes_by_col='COMMON', subnetwork_name=base_name+'xx')\n",
      "        1477\n",
      "        >>> create_subnetwork(nodes=[1502, 1555, 1560, 1701], subnetwork_name=base_name+'xx')\n",
      "        1477\n",
      "\n"
     ]
    }
   ],
   "source": [
    "help(p4c.create_subnetwork)"
   ]
  },
  {
   "cell_type": "code",
   "execution_count": null,
   "id": "353606a3-c3a1-438c-831e-1ba952bdeb08",
   "metadata": {},
   "outputs": [],
   "source": []
  }
 ],
 "metadata": {
  "kernelspec": {
   "display_name": "Python 3 (ipykernel)",
   "language": "python",
   "name": "python3"
  },
  "language_info": {
   "codemirror_mode": {
    "name": "ipython",
    "version": 3
   },
   "file_extension": ".py",
   "mimetype": "text/x-python",
   "name": "python",
   "nbconvert_exporter": "python",
   "pygments_lexer": "ipython3",
   "version": "3.10.5"
  }
 },
 "nbformat": 4,
 "nbformat_minor": 5
}
