{
 "cells": [
  {
   "cell_type": "code",
   "execution_count": 7,
   "id": "0fac22ce-be26-459c-9c62-45c4325da539",
   "metadata": {},
   "outputs": [],
   "source": [
    "from pathlib import Path\n",
    "import pandas as pd\n",
    "import requests\n",
    "import subprocess "
   ]
  },
  {
   "cell_type": "code",
   "execution_count": 32,
   "id": "612dd80b-a9e9-4c5e-929a-be1e653fc4f7",
   "metadata": {},
   "outputs": [],
   "source": [
    "multifasta_proteins = '../../results/cassettes/clusters/merged_cassette_proteins.faa.gz'\n",
    "clusters_df = '../../results/cassettes/clusters/mmseqs2_cluster.tsv'"
   ]
  },
  {
   "cell_type": "code",
   "execution_count": 31,
   "id": "a1e3580b-f321-4d99-8b93-84a24c80b0a6",
   "metadata": {},
   "outputs": [],
   "source": [
    "def cassettes_headers_to_df(multifasta_proteins):\n",
    "    cmd = ['zgrep', '-Po', '(?<=^\\>).+', multifasta_proteins]\n",
    "    columns = ['contigs', 'cassettes', 'locus_tags', 'header']\n",
    "    data = []\n",
    "    for header in subprocess.run(cmd, check=True, stdout=subprocess.PIPE).stdout.decode('UTF-8').splitlines():\n",
    "        rows = header.split(':')\n",
    "        assert len(rows) == 3, 'Header {} is invalid !'.format(header)\n",
    "        rows.append(header)\n",
    "        data.append(rows)\n",
    "        \n",
    "    df = pd.DataFrame(data=data, columns=columns)\n",
    "    return df    "
   ]
  },
  {
   "cell_type": "code",
   "execution_count": 33,
   "id": "6f613bde-5c23-4ed2-834b-ba44be9cd4cf",
   "metadata": {},
   "outputs": [],
   "source": [
    "headers_df = cassettes_headers_to_df(multifasta_proteins=multifasta_proteins)\n",
    "clusters_df = pd.read_csv(clusters_df, sep='\\t', header=None).rename(columns={0:'representative', 1:'member'})"
   ]
  },
  {
   "cell_type": "code",
   "execution_count": 34,
   "id": "1199415a-7c29-435e-9d59-1ec340c69cee",
   "metadata": {},
   "outputs": [
    {
     "data": {
      "text/html": [
       "<div>\n",
       "<style scoped>\n",
       "    .dataframe tbody tr th:only-of-type {\n",
       "        vertical-align: middle;\n",
       "    }\n",
       "\n",
       "    .dataframe tbody tr th {\n",
       "        vertical-align: top;\n",
       "    }\n",
       "\n",
       "    .dataframe thead th {\n",
       "        text-align: right;\n",
       "    }\n",
       "</style>\n",
       "<table border=\"1\" class=\"dataframe\">\n",
       "  <thead>\n",
       "    <tr style=\"text-align: right;\">\n",
       "      <th></th>\n",
       "      <th>representative</th>\n",
       "      <th>member</th>\n",
       "    </tr>\n",
       "  </thead>\n",
       "  <tbody>\n",
       "    <tr>\n",
       "      <th>0</th>\n",
       "      <td>Contig_936157.3_6:Cassette_1:IOMDNFNB_00323</td>\n",
       "      <td>Contig_936157.3_6:Cassette_1:IOMDNFNB_00323</td>\n",
       "    </tr>\n",
       "    <tr>\n",
       "      <th>1</th>\n",
       "      <td>Contig_936157.3_6:Cassette_1:IOMDNFNB_00323</td>\n",
       "      <td>Contig_90370.3085_12:Cassette_1:MFLNKJEA_02786</td>\n",
       "    </tr>\n",
       "    <tr>\n",
       "      <th>2</th>\n",
       "      <td>Contig_936157.3_6:Cassette_1:IOMDNFNB_00323</td>\n",
       "      <td>Contig_59201.1197_9:Cassette_1:MPAOKENP_03266</td>\n",
       "    </tr>\n",
       "    <tr>\n",
       "      <th>3</th>\n",
       "      <td>Contig_936157.3_6:Cassette_1:IOMDNFNB_00323</td>\n",
       "      <td>Contig_590.13417_5:Cassette_1:GBGIPKHN_02573</td>\n",
       "    </tr>\n",
       "    <tr>\n",
       "      <th>4</th>\n",
       "      <td>Contig_936157.3_6:Cassette_1:IOMDNFNB_00323</td>\n",
       "      <td>Contig_590.14226_3:Cassette_1:KDNHJPFP_01758</td>\n",
       "    </tr>\n",
       "  </tbody>\n",
       "</table>\n",
       "</div>"
      ],
      "text/plain": [
       "                                representative  \\\n",
       "0  Contig_936157.3_6:Cassette_1:IOMDNFNB_00323   \n",
       "1  Contig_936157.3_6:Cassette_1:IOMDNFNB_00323   \n",
       "2  Contig_936157.3_6:Cassette_1:IOMDNFNB_00323   \n",
       "3  Contig_936157.3_6:Cassette_1:IOMDNFNB_00323   \n",
       "4  Contig_936157.3_6:Cassette_1:IOMDNFNB_00323   \n",
       "\n",
       "                                           member  \n",
       "0     Contig_936157.3_6:Cassette_1:IOMDNFNB_00323  \n",
       "1  Contig_90370.3085_12:Cassette_1:MFLNKJEA_02786  \n",
       "2   Contig_59201.1197_9:Cassette_1:MPAOKENP_03266  \n",
       "3    Contig_590.13417_5:Cassette_1:GBGIPKHN_02573  \n",
       "4    Contig_590.14226_3:Cassette_1:KDNHJPFP_01758  "
      ]
     },
     "execution_count": 34,
     "metadata": {},
     "output_type": "execute_result"
    }
   ],
   "source": [
    "clusters_df.head()"
   ]
  },
  {
   "cell_type": "code",
   "execution_count": null,
   "id": "b90bf173-9327-4693-aa13-97f0036ec55a",
   "metadata": {},
   "outputs": [],
   "source": []
  }
 ],
 "metadata": {
  "kernelspec": {
   "display_name": "Python 3 (ipykernel)",
   "language": "python",
   "name": "python3"
  },
  "language_info": {
   "codemirror_mode": {
    "name": "ipython",
    "version": 3
   },
   "file_extension": ".py",
   "mimetype": "text/x-python",
   "name": "python",
   "nbconvert_exporter": "python",
   "pygments_lexer": "ipython3",
   "version": "3.10.5"
  }
 },
 "nbformat": 4,
 "nbformat_minor": 5
}
